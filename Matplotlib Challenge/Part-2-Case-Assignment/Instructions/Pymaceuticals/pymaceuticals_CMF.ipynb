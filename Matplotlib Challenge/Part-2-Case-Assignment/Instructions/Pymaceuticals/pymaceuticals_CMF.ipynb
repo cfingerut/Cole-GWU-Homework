{
 "cells": [
  {
   "cell_type": "markdown",
   "metadata": {},
   "source": [
    "## Observations and Insights "
   ]
  },
  {
   "cell_type": "markdown",
   "metadata": {},
   "source": [
    "Observation #1: Capomulin and Ramicane seem to be fairly viable treament options. Their average tumor volumes with treament are relatively low compared to other drugs, and seem to have less variance in their results than some of the other regimens. \n",
    "\n",
    "Observation #2: When running analysis on \"time points\", we need to be careful in how we interpret the data. Some drgus show an increase in tumor volume over time, while a select few show decreases. When examining \"final tumor volume\" in some of our comparative analyses, this is sometimes difficult to tell. Subsequently, the maximum tumor volume is not always the final tumor volume, although in most cases in the data, it is. \n",
    "\n",
    "Observation #3: In this exercise we plotted (in a pie chart) the distribution of sex amongst the mice tested. While this is great information when supplementing other findings, it does not tell us much in a pie chart. A better use of \"sex\" data, would have been to do this same distrubtion and see if sex seem to be correlated with response by treatment type. I would have replaced the pie chart with this information, as I think it would be more insightful and allow us to glean further inference into important treatment testing decisions. "
   ]
  },
  {
   "cell_type": "code",
   "execution_count": 1,
   "metadata": {},
   "outputs": [
    {
     "data": {
      "text/html": [
       "<div>\n",
       "<style scoped>\n",
       "    .dataframe tbody tr th:only-of-type {\n",
       "        vertical-align: middle;\n",
       "    }\n",
       "\n",
       "    .dataframe tbody tr th {\n",
       "        vertical-align: top;\n",
       "    }\n",
       "\n",
       "    .dataframe thead th {\n",
       "        text-align: right;\n",
       "    }\n",
       "</style>\n",
       "<table border=\"1\" class=\"dataframe\">\n",
       "  <thead>\n",
       "    <tr style=\"text-align: right;\">\n",
       "      <th></th>\n",
       "      <th>Mouse ID</th>\n",
       "      <th>Drug Regimen</th>\n",
       "      <th>Sex</th>\n",
       "      <th>Age_months</th>\n",
       "      <th>Weight (g)</th>\n",
       "      <th>Timepoint</th>\n",
       "      <th>Tumor Volume (mm3)</th>\n",
       "      <th>Metastatic Sites</th>\n",
       "    </tr>\n",
       "  </thead>\n",
       "  <tbody>\n",
       "    <tr>\n",
       "      <th>0</th>\n",
       "      <td>k403</td>\n",
       "      <td>Ramicane</td>\n",
       "      <td>Male</td>\n",
       "      <td>21</td>\n",
       "      <td>16</td>\n",
       "      <td>0</td>\n",
       "      <td>45.000000</td>\n",
       "      <td>0</td>\n",
       "    </tr>\n",
       "    <tr>\n",
       "      <th>1</th>\n",
       "      <td>k403</td>\n",
       "      <td>Ramicane</td>\n",
       "      <td>Male</td>\n",
       "      <td>21</td>\n",
       "      <td>16</td>\n",
       "      <td>5</td>\n",
       "      <td>38.825898</td>\n",
       "      <td>0</td>\n",
       "    </tr>\n",
       "    <tr>\n",
       "      <th>2</th>\n",
       "      <td>k403</td>\n",
       "      <td>Ramicane</td>\n",
       "      <td>Male</td>\n",
       "      <td>21</td>\n",
       "      <td>16</td>\n",
       "      <td>10</td>\n",
       "      <td>35.014271</td>\n",
       "      <td>1</td>\n",
       "    </tr>\n",
       "    <tr>\n",
       "      <th>3</th>\n",
       "      <td>k403</td>\n",
       "      <td>Ramicane</td>\n",
       "      <td>Male</td>\n",
       "      <td>21</td>\n",
       "      <td>16</td>\n",
       "      <td>15</td>\n",
       "      <td>34.223992</td>\n",
       "      <td>1</td>\n",
       "    </tr>\n",
       "    <tr>\n",
       "      <th>4</th>\n",
       "      <td>k403</td>\n",
       "      <td>Ramicane</td>\n",
       "      <td>Male</td>\n",
       "      <td>21</td>\n",
       "      <td>16</td>\n",
       "      <td>20</td>\n",
       "      <td>32.997729</td>\n",
       "      <td>1</td>\n",
       "    </tr>\n",
       "  </tbody>\n",
       "</table>\n",
       "</div>"
      ],
      "text/plain": [
       "  Mouse ID Drug Regimen   Sex  Age_months  Weight (g)  Timepoint  \\\n",
       "0     k403     Ramicane  Male          21          16          0   \n",
       "1     k403     Ramicane  Male          21          16          5   \n",
       "2     k403     Ramicane  Male          21          16         10   \n",
       "3     k403     Ramicane  Male          21          16         15   \n",
       "4     k403     Ramicane  Male          21          16         20   \n",
       "\n",
       "   Tumor Volume (mm3)  Metastatic Sites  \n",
       "0           45.000000                 0  \n",
       "1           38.825898                 0  \n",
       "2           35.014271                 1  \n",
       "3           34.223992                 1  \n",
       "4           32.997729                 1  "
      ]
     },
     "execution_count": 1,
     "metadata": {},
     "output_type": "execute_result"
    }
   ],
   "source": [
    "# Dependencies and Setup\n",
    "import matplotlib.pyplot as plt\n",
    "import pandas as pd\n",
    "import scipy.stats as st\n",
    "from scipy.stats import linregress\n",
    "\n",
    "# Study data files\n",
    "mouse_metadata_path = \"data/Mouse_metadata.csv\"\n",
    "study_results_path = \"data/Study_results.csv\"\n",
    "\n",
    "# Read the mouse data and the study results\n",
    "mouse_metadata = pd.read_csv(mouse_metadata_path)\n",
    "study_results = pd.read_csv(study_results_path)\n",
    "\n",
    "# Combine the data into a single dataset\n",
    "mouse_df= pd.merge(mouse_metadata, study_results, how='outer', on='Mouse ID')\n",
    "mouse_df.head()\n"
   ]
  },
  {
   "cell_type": "code",
   "execution_count": 2,
   "metadata": {},
   "outputs": [
    {
     "data": {
      "text/plain": [
       "249"
      ]
     },
     "execution_count": 2,
     "metadata": {},
     "output_type": "execute_result"
    }
   ],
   "source": [
    "# Checking the number of mice in the DataFrame.\n",
    "mouse_df['Mouse ID'].nunique()"
   ]
  },
  {
   "cell_type": "code",
   "execution_count": 3,
   "metadata": {
    "scrolled": false
   },
   "outputs": [],
   "source": [
    "# Getting the duplicate mice by ID number that shows up for Mouse ID and Timepoint. \n",
    "sorted_df= mouse_df.sort_values(['Mouse ID' , 'Timepoint'])\n",
    "\n"
   ]
  },
  {
   "cell_type": "code",
   "execution_count": null,
   "metadata": {},
   "outputs": [],
   "source": []
  },
  {
   "cell_type": "code",
   "execution_count": 4,
   "metadata": {
    "scrolled": true
   },
   "outputs": [
    {
     "name": "stdout",
     "output_type": "stream",
     "text": [
      "    Mouse ID Drug Regimen     Sex  Age_months  Weight (g)  Timepoint  \\\n",
      "909     g989     Propriva  Female          21          26          0   \n",
      "911     g989     Propriva  Female          21          26          5   \n",
      "913     g989     Propriva  Female          21          26         10   \n",
      "915     g989     Propriva  Female          21          26         15   \n",
      "917     g989     Propriva  Female          21          26         20   \n",
      "\n",
      "     Tumor Volume (mm3)  Metastatic Sites  \n",
      "909           45.000000                 0  \n",
      "911           47.570392                 0  \n",
      "913           49.880528                 0  \n",
      "915           53.442020                 0  \n",
      "917           54.657650                 1  \n"
     ]
    }
   ],
   "source": [
    "# Create a clean DataFrame by dropping the duplicate mouse by its ID.\n",
    "duplicate_rows= sorted_df[sorted_df.duplicated(['Mouse ID', 'Timepoint'])]\n",
    "print(duplicate_rows)\n",
    "\n",
    "#cleaned= sorted_df.drop_duplicates(['Mouse ID',\"Timepoint\"])\n",
    "cleaned= sorted_df[sorted_df[\"Mouse ID\"]!= \"g989\"]                      \n",
    "#cleaned.loc[cleaned[\"Mouse ID\"]== \"g989\"]\n",
    "\n",
    "#cleaned.drop('909', axis=index)\n",
    "#use an iloc but we want to drop the entire mouse"
   ]
  },
  {
   "cell_type": "code",
   "execution_count": 5,
   "metadata": {
    "scrolled": true
   },
   "outputs": [
    {
     "data": {
      "text/plain": [
       "248"
      ]
     },
     "execution_count": 5,
     "metadata": {},
     "output_type": "execute_result"
    }
   ],
   "source": [
    "# Checking the number of mice in the clean DataFrame.\n",
    "cleaned[\"Mouse ID\"].nunique()\n"
   ]
  },
  {
   "cell_type": "markdown",
   "metadata": {},
   "source": [
    "## Summary Statistics"
   ]
  },
  {
   "cell_type": "code",
   "execution_count": 46,
   "metadata": {},
   "outputs": [
    {
     "data": {
      "text/html": [
       "<div>\n",
       "<style scoped>\n",
       "    .dataframe tbody tr th:only-of-type {\n",
       "        vertical-align: middle;\n",
       "    }\n",
       "\n",
       "    .dataframe tbody tr th {\n",
       "        vertical-align: top;\n",
       "    }\n",
       "\n",
       "    .dataframe thead th {\n",
       "        text-align: right;\n",
       "    }\n",
       "</style>\n",
       "<table border=\"1\" class=\"dataframe\">\n",
       "  <thead>\n",
       "    <tr style=\"text-align: right;\">\n",
       "      <th></th>\n",
       "      <th>Mean</th>\n",
       "      <th>Median</th>\n",
       "      <th>Variance</th>\n",
       "      <th>Standard Deviation</th>\n",
       "      <th>SEM</th>\n",
       "    </tr>\n",
       "    <tr>\n",
       "      <th>Drug Regimen</th>\n",
       "      <th></th>\n",
       "      <th></th>\n",
       "      <th></th>\n",
       "      <th></th>\n",
       "      <th></th>\n",
       "    </tr>\n",
       "  </thead>\n",
       "  <tbody>\n",
       "    <tr>\n",
       "      <th>Capomulin</th>\n",
       "      <td>40.68</td>\n",
       "      <td>41.56</td>\n",
       "      <td>24.95</td>\n",
       "      <td>4.99</td>\n",
       "      <td>0.33</td>\n",
       "    </tr>\n",
       "    <tr>\n",
       "      <th>Ceftamin</th>\n",
       "      <td>52.59</td>\n",
       "      <td>51.78</td>\n",
       "      <td>39.29</td>\n",
       "      <td>6.27</td>\n",
       "      <td>0.47</td>\n",
       "    </tr>\n",
       "    <tr>\n",
       "      <th>Infubinol</th>\n",
       "      <td>52.88</td>\n",
       "      <td>51.82</td>\n",
       "      <td>43.13</td>\n",
       "      <td>6.57</td>\n",
       "      <td>0.49</td>\n",
       "    </tr>\n",
       "    <tr>\n",
       "      <th>Ketapril</th>\n",
       "      <td>55.24</td>\n",
       "      <td>53.70</td>\n",
       "      <td>68.55</td>\n",
       "      <td>8.28</td>\n",
       "      <td>0.60</td>\n",
       "    </tr>\n",
       "    <tr>\n",
       "      <th>Naftisol</th>\n",
       "      <td>54.33</td>\n",
       "      <td>52.51</td>\n",
       "      <td>66.17</td>\n",
       "      <td>8.13</td>\n",
       "      <td>0.60</td>\n",
       "    </tr>\n",
       "    <tr>\n",
       "      <th>Placebo</th>\n",
       "      <td>54.03</td>\n",
       "      <td>52.29</td>\n",
       "      <td>61.17</td>\n",
       "      <td>7.82</td>\n",
       "      <td>0.58</td>\n",
       "    </tr>\n",
       "    <tr>\n",
       "      <th>Propriva</th>\n",
       "      <td>52.32</td>\n",
       "      <td>50.45</td>\n",
       "      <td>43.85</td>\n",
       "      <td>6.62</td>\n",
       "      <td>0.54</td>\n",
       "    </tr>\n",
       "    <tr>\n",
       "      <th>Ramicane</th>\n",
       "      <td>40.22</td>\n",
       "      <td>40.67</td>\n",
       "      <td>23.49</td>\n",
       "      <td>4.85</td>\n",
       "      <td>0.32</td>\n",
       "    </tr>\n",
       "    <tr>\n",
       "      <th>Stelasyn</th>\n",
       "      <td>54.23</td>\n",
       "      <td>52.43</td>\n",
       "      <td>59.45</td>\n",
       "      <td>7.71</td>\n",
       "      <td>0.57</td>\n",
       "    </tr>\n",
       "    <tr>\n",
       "      <th>Zoniferol</th>\n",
       "      <td>53.24</td>\n",
       "      <td>51.82</td>\n",
       "      <td>48.53</td>\n",
       "      <td>6.97</td>\n",
       "      <td>0.52</td>\n",
       "    </tr>\n",
       "  </tbody>\n",
       "</table>\n",
       "</div>"
      ],
      "text/plain": [
       "               Mean Median Variance Standard Deviation   SEM\n",
       "Drug Regimen                                                \n",
       "Capomulin     40.68  41.56    24.95               4.99  0.33\n",
       "Ceftamin      52.59  51.78    39.29               6.27  0.47\n",
       "Infubinol     52.88  51.82    43.13               6.57  0.49\n",
       "Ketapril      55.24  53.70    68.55               8.28  0.60\n",
       "Naftisol      54.33  52.51    66.17               8.13  0.60\n",
       "Placebo       54.03  52.29    61.17               7.82  0.58\n",
       "Propriva      52.32  50.45    43.85               6.62  0.54\n",
       "Ramicane      40.22  40.67    23.49               4.85  0.32\n",
       "Stelasyn      54.23  52.43    59.45               7.71  0.57\n",
       "Zoniferol     53.24  51.82    48.53               6.97  0.52"
      ]
     },
     "execution_count": 46,
     "metadata": {},
     "output_type": "execute_result"
    }
   ],
   "source": [
    "# Generate a summary statistics table of mean, median, variance, standard deviation, and SEM of the tumor volume for each regimen\n",
    "# This method is the most straighforward, creating multiple series and putting them all together at the end.\n",
    "micegroup= cleaned.groupby([\"Drug Regimen\"])[\"Tumor Volume (mm3)\"]\n",
    "\n",
    "micemean=micegroup.mean()\n",
    "micemed= micegroup.median()\n",
    "micevar= micegroup.var()\n",
    "micestadev= micegroup.std()\n",
    "micesem= micegroup.sem()\n",
    "\n",
    "summary= pd.merge(micemean, micemed, how='outer', on='Drug Regimen')\n",
    "\n",
    "\n",
    "summary= pd.merge(summary, micevar, how='outer', on='Drug Regimen')\n",
    "\n",
    "summary= summary.rename(columns={\"Tumor Volume (mm3)_x\": \"Mean\", \"Tumor Volume (mm3)_y\": \"Median\", \"Tumor Volume (mm3)\": \"Variance\"})\n",
    "\n",
    "summary= pd.merge(summary, micestadev, how='outer', on='Drug Regimen')\n",
    "\n",
    "summary= pd.merge(summary, micesem, how='outer', on= \"Drug Regimen\")\n",
    "summary\n",
    "summary=summary.rename(columns= {'Tumor Volume (mm3)_x': 'Standard Deviation', \"Tumor Volume (mm3)_y\": \"SEM\"})\n",
    "\n",
    "\n",
    "#formatting\n",
    "summary['Mean'] = summary['Mean'].map('{:,.2f}'.format)\n",
    "summary['Median'] = summary['Median'].map('{:,.2f}'.format)\n",
    "summary['Variance'] = summary['Variance'].map('{:,.2f}'.format)\n",
    "summary['Standard Deviation'] = summary['Standard Deviation'].map('{:,.2f}'.format)\n",
    "summary['SEM'] = summary['SEM'].map('{:,.2f}'.format)\n",
    "summary"
   ]
  },
  {
   "cell_type": "code",
   "execution_count": 7,
   "metadata": {
    "scrolled": true
   },
   "outputs": [],
   "source": []
  },
  {
   "cell_type": "markdown",
   "metadata": {},
   "source": [
    "## Bar Plots"
   ]
  },
  {
   "cell_type": "code",
   "execution_count": 8,
   "metadata": {},
   "outputs": [
    {
     "data": {
      "text/plain": [
       "Text(0, 0.5, 'Total Data Points')"
      ]
     },
     "execution_count": 8,
     "metadata": {},
     "output_type": "execute_result"
    },
    {
     "data": {
      "image/png": "[encoded data removed]",
      "text/plain": [
       "<Figure size 432x288 with 1 Axes>"
      ]
     },
     "metadata": {
      "needs_background": "light"
     },
     "output_type": "display_data"
    }
   ],
   "source": [
    "# Generate a bar plot showing number of data points for each treatment regimen using pandas\n",
    "mice_drugs= cleaned[\"Drug Regimen\"].value_counts()\n",
    "\n",
    "mice_drugs.plot(kind=\"bar\", color=\"g\", title= \"Data Points by Regimen\")\n",
    "plt.xlabel(\"Drug Regimen\")\n",
    "plt.ylabel(\"Total Data Points\")\n"
   ]
  },
  {
   "cell_type": "code",
   "execution_count": 9,
   "metadata": {},
   "outputs": [
    {
     "data": {
      "text/plain": [
       "Text(0, 0.5, 'Number of Trials')"
      ]
     },
     "execution_count": 9,
     "metadata": {},
     "output_type": "execute_result"
    },
    {
     "data": {
      "image/png": "[encoded data removed]",
      "text/plain": [
       "<Figure size 432x288 with 1 Axes>"
      ]
     },
     "metadata": {
      "needs_background": "light"
     },
     "output_type": "display_data"
    }
   ],
   "source": [
    "# Generate a bar plot showing number of data points for each treatment regimen using pyplot\n",
    "mice_drugs\n",
    "\n",
    "drugname=mice_drugs.keys()\n",
    "\n",
    "drugamount=[mice_drugs[0], mice_drugs[1], mice_drugs[2], mice_drugs[3], mice_drugs[4], mice_drugs[5], mice_drugs[6],\n",
    "            mice_drugs[7], mice_drugs[8], mice_drugs[9]]\n",
    "\n",
    "ticks= [x for x in drugname]\n",
    "\n",
    "plt.bar(drugname, drugamount, color='red', width= 0.6 )\n",
    "plt.xticks (ticks, rotation = 'vertical')\n",
    "plt.title(\"Regimen Frequency by Drug Type\")\n",
    "plt.xlabel(\"Drug Type\")\n",
    "plt.ylabel(\"Number of Trials\")\n"
   ]
  },
  {
   "cell_type": "markdown",
   "metadata": {},
   "source": [
    "## Pie Plots"
   ]
  },
  {
   "cell_type": "code",
   "execution_count": 10,
   "metadata": {},
   "outputs": [
    {
     "data": {
      "text/plain": [
       "Index(['Male', 'Female'], dtype='object')"
      ]
     },
     "execution_count": 10,
     "metadata": {},
     "output_type": "execute_result"
    },
    {
     "data": {
      "image/png": "[encoded data removed]",
      "text/plain": [
       "<Figure size 432x288 with 1 Axes>"
      ]
     },
     "metadata": {},
     "output_type": "display_data"
    }
   ],
   "source": [
    "# Generate a pie plot showing the distribution of female versus male mice using pandas #Ask Tutor\n",
    "\n",
    "\n",
    "colors= ['lightskyblue', 'pink']\n",
    "\n",
    "#gender_df.plot(kind= 'pie', colors = colors, autopct='%1.1f%%')\n",
    "mousepie = cleaned[\"Sex\"].value_counts()\n",
    "mousepie.plot(kind='pie',colors= colors, autopct= '%1.2f%%', title= \"Distribution of Sex Among Sample Mice\")\n",
    "mousepie.index"
   ]
  },
  {
   "cell_type": "code",
   "execution_count": 11,
   "metadata": {},
   "outputs": [
    {
     "data": {
      "text/plain": [
       "Text(0.5, 1.0, 'Distribution of Sex Among Sample Mice')"
      ]
     },
     "execution_count": 11,
     "metadata": {},
     "output_type": "execute_result"
    },
    {
     "data": {
      "image/png": "[encoded data removed]",
      "text/plain": [
       "<Figure size 432x288 with 1 Axes>"
      ]
     },
     "metadata": {},
     "output_type": "display_data"
    }
   ],
   "source": [
    "# Generate a pie plot showing the distribution of female versus male mice using pyplot\n",
    "labels= mousepie.index\n",
    "plt.pie(mousepie, colors= colors,labels=labels, autopct= '%1.2f%%')\n",
    "plt.title(\"Distribution of Sex Among Sample Mice\")"
   ]
  },
  {
   "cell_type": "markdown",
   "metadata": {},
   "source": [
    "## Quartiles, Outliers and Boxplots"
   ]
  },
  {
   "cell_type": "code",
   "execution_count": null,
   "metadata": {},
   "outputs": [],
   "source": []
  },
  {
   "cell_type": "code",
   "execution_count": 12,
   "metadata": {},
   "outputs": [
    {
     "name": "stdout",
     "output_type": "stream",
     "text": [
      "The outliers for Infubinol are Mouse ID\n",
      "c326    36.321346\n",
      "Name: Tumor Volume (mm3), dtype: float64\n",
      "- - - - - - - - - - - - -\n",
      "There are no outliers for the Capomulin treatment regimen\n",
      "- - - - - - - - - - - - -\n",
      "There are no outliers for the Ramicane treatment regimen.\n",
      "- - - - - - - - - - - - -\n",
      "There are no outliers for the Ceftamin treatment regimen\n"
     ]
    }
   ],
   "source": [
    "# Calculate the final tumor volume of each mouse across four of the most promising treatment regimens. Calculate the IQR and quantitatively determine if there are any potential outliers. \n",
    " \n",
    "max_df = cleaned.groupby(\"Mouse ID\").nth(-1)\n",
    "max_df.reset_index()\n",
    "#Infubinol\n",
    "infubinol= max_df.loc[max_df[\"Drug Regimen\"]== 'Infubinol']['Tumor Volume (mm3)']\n",
    "infu_quartile= infubinol.quantile([.25,.50,.75])\n",
    "infu_lower=infu_quartile[0.25]\n",
    "infu_upper= infu_quartile[0.75]\n",
    "infu_iqr= infu_upper - infu_lower\n",
    "infu_lwrbound= infu_lower - 1.5*infu_iqr\n",
    "infu_uprbound= infu_upper + 1.5*infu_iqr\n",
    "\n",
    "outlier_infu= infubinol.loc[(infubinol < infu_lwrbound)|(infubinol > infu_uprbound)]\n",
    "\n",
    "\n",
    "#Capomulin\n",
    "capomulin= max_df.loc[max_df[\"Drug Regimen\"]== 'Capomulin']['Tumor Volume (mm3)']\n",
    "capo_quartile= capomulin.quantile([.25,.50,.75])\n",
    "capo_lower=capo_quartile[0.25]\n",
    "capo_upper= capo_quartile[0.75]\n",
    "capo_iqr= capo_upper - capo_lower\n",
    "capo_lwrbound= capo_lower - 1.5*capo_iqr\n",
    "capo_uprbound= capo_upper + 1.5*capo_iqr\n",
    "\n",
    "outlier_capo= capomulin.loc[(capomulin < capo_lwrbound)|(capomulin > capo_uprbound)]\n",
    "#Ramicane\n",
    "ramicane= max_df.loc[max_df[\"Drug Regimen\"]== 'Ramicane']['Tumor Volume (mm3)']\n",
    "rami_quartile= ramicane.quantile([.25,.50,.75])\n",
    "rami_lower=rami_quartile[0.25]\n",
    "rami_upper= rami_quartile[0.75]\n",
    "rami_iqr= rami_upper - rami_lower\n",
    "rami_lwrbound= rami_lower - 1.5*rami_iqr\n",
    "rami_uprbound= rami_upper + 1.5*rami_iqr\n",
    "\n",
    "outlier_rami= ramicane.loc[(ramicane < rami_lwrbound)|(ramicane > rami_uprbound)]\n",
    "\n",
    "#Ceftamin\n",
    "ceftamin= max_df.loc[max_df[\"Drug Regimen\"]== 'Ceftamin']['Tumor Volume (mm3)']\n",
    "ceft_quartile= ceftamin.quantile([.25,.50,.75])\n",
    "ceft_lower=ceft_quartile[0.25]\n",
    "ceft_upper= ceft_quartile[0.75]\n",
    "ceft_iqr= ceft_upper - ceft_lower\n",
    "ceft_lwrbound= ceft_lower - 1.5*ceft_iqr\n",
    "ceft_uprbound= ceft_upper + 1.5*ceft_iqr\n",
    "\n",
    "outlier_ceft= ceftamin.loc[(ceftamin < ceft_lwrbound)|(ceftamin > ceft_uprbound)]\n",
    "\n",
    "if outlier_infu.empty:\n",
    "    print(\"There are no outliers for the Infubinol treatment regimen\")\n",
    "else:\n",
    "    print(f'The outliers for Infubinol are {outlier_infu}')\n",
    "    \n",
    "print('- - - - - - - - - - - - -')\n",
    "\n",
    "if outlier_capo.empty:\n",
    "    print(\"There are no outliers for the Capomulin treatment regimen\")\n",
    "else:\n",
    "    print(f'The outliers for Capomulin are {outlier_capo}')\n",
    "    \n",
    "print('- - - - - - - - - - - - -')\n",
    "\n",
    "if outlier_rami.empty:\n",
    "    print(\"There are no outliers for the Ramicane treatment regimen.\")\n",
    "else:\n",
    "    print(f'The outliers for Ramicane are {outlier_rami}')\n",
    "    \n",
    "print('- - - - - - - - - - - - -')\n",
    "\n",
    "if outlier_ceft.empty:\n",
    "    print(\"There are no outliers for the Ceftamin treatment regimen\")\n",
    "else:\n",
    "    print(f'The outliers for Ceftamin are {outlier_ceft}')\n",
    "    \n"
   ]
  },
  {
   "cell_type": "code",
   "execution_count": 13,
   "metadata": {},
   "outputs": [
    {
     "data": {
      "text/plain": [
       "Text(0, 0.5, 'Tumor Volume')"
      ]
     },
     "execution_count": 13,
     "metadata": {},
     "output_type": "execute_result"
    },
    {
     "data": {
      "image/png": "[encoded data removed]",
      "text/plain": [
       "<Figure size 432x288 with 1 Axes>"
      ]
     },
     "metadata": {
      "needs_background": "light"
     },
     "output_type": "display_data"
    }
   ],
   "source": [
    "# Generate a box plot of the final tumor volume of each mouse across four regimens of interest\n",
    "plt.boxplot([infubinol, capomulin, ramicane, ceftamin], labels= ['Infubinol', 'Capomulin', 'Ramicane', 'Ceftamin'], flierprops= {'markerfacecolor': \"red\", 'markersize': 12})\n",
    "plt.ylabel(\"Tumor Volume\")"
   ]
  },
  {
   "cell_type": "markdown",
   "metadata": {},
   "source": [
    "## Line and Scatter Plots"
   ]
  },
  {
   "cell_type": "code",
   "execution_count": 14,
   "metadata": {},
   "outputs": [
    {
     "data": {
      "text/html": [
       "<div>\n",
       "<style scoped>\n",
       "    .dataframe tbody tr th:only-of-type {\n",
       "        vertical-align: middle;\n",
       "    }\n",
       "\n",
       "    .dataframe tbody tr th {\n",
       "        vertical-align: top;\n",
       "    }\n",
       "\n",
       "    .dataframe thead th {\n",
       "        text-align: right;\n",
       "    }\n",
       "</style>\n",
       "<table border=\"1\" class=\"dataframe\">\n",
       "  <thead>\n",
       "    <tr style=\"text-align: right;\">\n",
       "      <th></th>\n",
       "      <th>Mouse ID</th>\n",
       "      <th>Drug Regimen</th>\n",
       "      <th>Sex</th>\n",
       "      <th>Age_months</th>\n",
       "      <th>Weight (g)</th>\n",
       "      <th>Timepoint</th>\n",
       "      <th>Tumor Volume (mm3)</th>\n",
       "      <th>Metastatic Sites</th>\n",
       "    </tr>\n",
       "  </thead>\n",
       "  <tbody>\n",
       "    <tr>\n",
       "      <th>300</th>\n",
       "      <td>b128</td>\n",
       "      <td>Capomulin</td>\n",
       "      <td>Female</td>\n",
       "      <td>9</td>\n",
       "      <td>22</td>\n",
       "      <td>0</td>\n",
       "      <td>45.000000</td>\n",
       "      <td>0</td>\n",
       "    </tr>\n",
       "    <tr>\n",
       "      <th>301</th>\n",
       "      <td>b128</td>\n",
       "      <td>Capomulin</td>\n",
       "      <td>Female</td>\n",
       "      <td>9</td>\n",
       "      <td>22</td>\n",
       "      <td>5</td>\n",
       "      <td>45.651331</td>\n",
       "      <td>0</td>\n",
       "    </tr>\n",
       "    <tr>\n",
       "      <th>302</th>\n",
       "      <td>b128</td>\n",
       "      <td>Capomulin</td>\n",
       "      <td>Female</td>\n",
       "      <td>9</td>\n",
       "      <td>22</td>\n",
       "      <td>10</td>\n",
       "      <td>43.270852</td>\n",
       "      <td>0</td>\n",
       "    </tr>\n",
       "    <tr>\n",
       "      <th>303</th>\n",
       "      <td>b128</td>\n",
       "      <td>Capomulin</td>\n",
       "      <td>Female</td>\n",
       "      <td>9</td>\n",
       "      <td>22</td>\n",
       "      <td>15</td>\n",
       "      <td>43.784893</td>\n",
       "      <td>0</td>\n",
       "    </tr>\n",
       "    <tr>\n",
       "      <th>304</th>\n",
       "      <td>b128</td>\n",
       "      <td>Capomulin</td>\n",
       "      <td>Female</td>\n",
       "      <td>9</td>\n",
       "      <td>22</td>\n",
       "      <td>20</td>\n",
       "      <td>42.731552</td>\n",
       "      <td>0</td>\n",
       "    </tr>\n",
       "    <tr>\n",
       "      <th>...</th>\n",
       "      <td>...</td>\n",
       "      <td>...</td>\n",
       "      <td>...</td>\n",
       "      <td>...</td>\n",
       "      <td>...</td>\n",
       "      <td>...</td>\n",
       "      <td>...</td>\n",
       "      <td>...</td>\n",
       "    </tr>\n",
       "    <tr>\n",
       "      <th>120</th>\n",
       "      <td>y793</td>\n",
       "      <td>Capomulin</td>\n",
       "      <td>Male</td>\n",
       "      <td>17</td>\n",
       "      <td>17</td>\n",
       "      <td>25</td>\n",
       "      <td>38.992734</td>\n",
       "      <td>2</td>\n",
       "    </tr>\n",
       "    <tr>\n",
       "      <th>121</th>\n",
       "      <td>y793</td>\n",
       "      <td>Capomulin</td>\n",
       "      <td>Male</td>\n",
       "      <td>17</td>\n",
       "      <td>17</td>\n",
       "      <td>30</td>\n",
       "      <td>35.726023</td>\n",
       "      <td>2</td>\n",
       "    </tr>\n",
       "    <tr>\n",
       "      <th>122</th>\n",
       "      <td>y793</td>\n",
       "      <td>Capomulin</td>\n",
       "      <td>Male</td>\n",
       "      <td>17</td>\n",
       "      <td>17</td>\n",
       "      <td>35</td>\n",
       "      <td>36.327870</td>\n",
       "      <td>2</td>\n",
       "    </tr>\n",
       "    <tr>\n",
       "      <th>123</th>\n",
       "      <td>y793</td>\n",
       "      <td>Capomulin</td>\n",
       "      <td>Male</td>\n",
       "      <td>17</td>\n",
       "      <td>17</td>\n",
       "      <td>40</td>\n",
       "      <td>31.475411</td>\n",
       "      <td>2</td>\n",
       "    </tr>\n",
       "    <tr>\n",
       "      <th>124</th>\n",
       "      <td>y793</td>\n",
       "      <td>Capomulin</td>\n",
       "      <td>Male</td>\n",
       "      <td>17</td>\n",
       "      <td>17</td>\n",
       "      <td>45</td>\n",
       "      <td>31.896238</td>\n",
       "      <td>2</td>\n",
       "    </tr>\n",
       "  </tbody>\n",
       "</table>\n",
       "<p>230 rows × 8 columns</p>\n",
       "</div>"
      ],
      "text/plain": [
       "    Mouse ID Drug Regimen     Sex  Age_months  Weight (g)  Timepoint  \\\n",
       "300     b128    Capomulin  Female           9          22          0   \n",
       "301     b128    Capomulin  Female           9          22          5   \n",
       "302     b128    Capomulin  Female           9          22         10   \n",
       "303     b128    Capomulin  Female           9          22         15   \n",
       "304     b128    Capomulin  Female           9          22         20   \n",
       "..       ...          ...     ...         ...         ...        ...   \n",
       "120     y793    Capomulin    Male          17          17         25   \n",
       "121     y793    Capomulin    Male          17          17         30   \n",
       "122     y793    Capomulin    Male          17          17         35   \n",
       "123     y793    Capomulin    Male          17          17         40   \n",
       "124     y793    Capomulin    Male          17          17         45   \n",
       "\n",
       "     Tumor Volume (mm3)  Metastatic Sites  \n",
       "300           45.000000                 0  \n",
       "301           45.651331                 0  \n",
       "302           43.270852                 0  \n",
       "303           43.784893                 0  \n",
       "304           42.731552                 0  \n",
       "..                  ...               ...  \n",
       "120           38.992734                 2  \n",
       "121           35.726023                 2  \n",
       "122           36.327870                 2  \n",
       "123           31.475411                 2  \n",
       "124           31.896238                 2  \n",
       "\n",
       "[230 rows x 8 columns]"
      ]
     },
     "execution_count": 14,
     "metadata": {},
     "output_type": "execute_result"
    }
   ],
   "source": [
    "mice_cap=cleaned.loc[cleaned[\"Drug Regimen\"]== \"Capomulin\"]\n",
    "mice_cap"
   ]
  },
  {
   "cell_type": "code",
   "execution_count": 17,
   "metadata": {},
   "outputs": [
    {
     "name": "stdout",
     "output_type": "stream",
     "text": [
      "Which Mouse are you looking for data on?b128\n",
      "    Mouse ID Drug Regimen     Sex  Age_months  Weight (g)  Timepoint  \\\n",
      "300     b128    Capomulin  Female           9          22          0   \n",
      "301     b128    Capomulin  Female           9          22          5   \n",
      "302     b128    Capomulin  Female           9          22         10   \n",
      "303     b128    Capomulin  Female           9          22         15   \n",
      "304     b128    Capomulin  Female           9          22         20   \n",
      "..       ...          ...     ...         ...         ...        ...   \n",
      "120     y793    Capomulin    Male          17          17         25   \n",
      "121     y793    Capomulin    Male          17          17         30   \n",
      "122     y793    Capomulin    Male          17          17         35   \n",
      "123     y793    Capomulin    Male          17          17         40   \n",
      "124     y793    Capomulin    Male          17          17         45   \n",
      "\n",
      "     Tumor Volume (mm3)  Metastatic Sites  \n",
      "300           45.000000                 0  \n",
      "301           45.651331                 0  \n",
      "302           43.270852                 0  \n",
      "303           43.784893                 0  \n",
      "304           42.731552                 0  \n",
      "..                  ...               ...  \n",
      "120           38.992734                 2  \n",
      "121           35.726023                 2  \n",
      "122           36.327870                 2  \n",
      "123           31.475411                 2  \n",
      "124           31.896238                 2  \n",
      "\n",
      "[230 rows x 8 columns]\n"
     ]
    },
    {
     "data": {
      "text/plain": [
       "Text(0, 0.5, 'Tumor Volume')"
      ]
     },
     "execution_count": 17,
     "metadata": {},
     "output_type": "execute_result"
    },
    {
     "data": {
      "image/png": "[encoded data removed]",
      "text/plain": [
       "<Figure size 432x288 with 1 Axes>"
      ]
     },
     "metadata": {
      "needs_background": "light"
     },
     "output_type": "display_data"
    }
   ],
   "source": [
    "# Generate a line plot of time point versus tumor volume for a mouse treated with Capomulin\n",
    "\n",
    "mouse_id= input(\"Which Mouse are you looking for data on?\")\n",
    "\n",
    "indmouse= mice_cap.loc[mice_cap[\"Mouse ID\"]==mouse_id]\n",
    "print(mice_cap)\n",
    "plt.plot( indmouse['Timepoint'], indmouse[\"Tumor Volume (mm3)\"], color = \"blue\", label = 'Tumor Volume Over Time')\n",
    "plt.xlabel(\"Time Point\")\n",
    "plt.ylabel(\"Tumor Volume\")\n"
   ]
  },
  {
   "cell_type": "code",
   "execution_count": 22,
   "metadata": {},
   "outputs": [
    {
     "data": {
      "text/plain": [
       "<matplotlib.axes._subplots.AxesSubplot at 0x2086b35b808>"
      ]
     },
     "execution_count": 22,
     "metadata": {},
     "output_type": "execute_result"
    },
    {
     "data": {
      "image/png": "[encoded data removed]",
      "text/plain": [
       "<Figure size 432x288 with 1 Axes>"
      ]
     },
     "metadata": {
      "needs_background": "light"
     },
     "output_type": "display_data"
    }
   ],
   "source": [
    "# Generate a scatter plot of mouse weight versus average tumor volume for the Capomulin regimen\n",
    "micescatter =mice_cap.groupby([\"Mouse ID\"]).mean()[[\"Weight (g)\", \"Tumor Volume (mm3)\"]]\n",
    "micescatter.plot(kind= 'scatter', x ='Weight (g)', y=\"Tumor Volume (mm3)\", grid = True, title= \"Capomulin: Average Tumor Volume\")                                                    \n"
   ]
  },
  {
   "cell_type": "markdown",
   "metadata": {},
   "source": [
    "## Correlation and Regression"
   ]
  },
  {
   "cell_type": "code",
   "execution_count": 38,
   "metadata": {},
   "outputs": [
    {
     "name": "stdout",
     "output_type": "stream",
     "text": [
      " the correlation coefficient is 0.8419363424694717\n"
     ]
    },
    {
     "data": {
      "image/png": "[encoded data removed]",
      "text/plain": [
       "<Figure size 432x288 with 1 Axes>"
      ]
     },
     "metadata": {
      "needs_background": "light"
     },
     "output_type": "display_data"
    }
   ],
   "source": [
    "# Calculate the correlation coefficient and linear regression model \n",
    "# for mouse weight and average tumor volume for the Capomulin regimen\n",
    "\n",
    "\n",
    "\n",
    "#We want Capomulin, Tumor Volume, and mouse weight (averages)\n",
    "capo_df= cleaned.loc[cleaned[\"Drug Regimen\"]== 'Capomulin']\n",
    "\n",
    "capo_corr=capo_df.groupby([\"Mouse ID\"]).mean()[[\"Tumor Volume (mm3)\",\"Weight (g)\"]]\n",
    "\n",
    "\n",
    "correlation= st.pearsonr(capo_corr[\"Weight (g)\"],capo_corr[\"Tumor Volume (mm3)\"] )\n",
    "outputcoef= correlation[0]\n",
    "print(f' the correlation coefficient is {outputcoef}')\n",
    "#regression\n",
    "\n",
    "x=micescatter['Weight (g)']\n",
    "y= micescatter[\"Tumor Volume (mm3)\"] \n",
    "(slope, intercept, rvalue, pvalue, stderr) =linregress(x, y)\n",
    "regress_values = x * slope + intercept\n",
    "line_eq = \"y = \" + str(round(slope,2)) + \"x + \" + str(round(intercept,2))\n",
    "\n",
    "\n",
    "plt.scatter(x,y)\n",
    "plt.plot(x,regress_values,\"r\")\n",
    "plt.annotate(line_eq,(0,50),fontsize=15,color=\"red\")\n",
    "plt.title(\"Linear Regression Model: Mouse Weight/Average Tumor Volume, Capomulin Regimen \")\n",
    "plt.xlabel('Weight (g)')\n",
    "plt.ylabel('Tumor Volume (mm3)')\n",
    "plt.grid(b=True)\n",
    "\n",
    "\n",
    "         "
   ]
  },
  {
   "cell_type": "raw",
   "metadata": {},
   "source": []
  },
  {
   "cell_type": "code",
   "execution_count": null,
   "metadata": {},
   "outputs": [],
   "source": []
  },
  {
   "cell_type": "code",
   "execution_count": null,
   "metadata": {},
   "outputs": [],
   "source": []
  }
 ],
 "metadata": {
  "anaconda-cloud": {},
  "kernelspec": {
   "display_name": "Python 3",
   "language": "python",
   "name": "python3"
  },
  "language_info": {
   "codemirror_mode": {
    "name": "ipython",
    "version": 3
   },
   "file_extension": ".py",
   "mimetype": "text/x-python",
   "name": "python",
   "nbconvert_exporter": "python",
   "pygments_lexer": "ipython3",
   "version": "3.7.6"
  }
 },
 "nbformat": 4,
 "nbformat_minor": 2
}
