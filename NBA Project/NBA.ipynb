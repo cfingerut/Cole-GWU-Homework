{
 "cells": [
  {
   "cell_type": "code",
   "execution_count": 7,
   "metadata": {},
   "outputs": [],
   "source": [
    "import pandas as pd\n",
    "import csv\n",
    "import numpy as np\n",
    "import matplotlib.pyplot as plt"
   ]
  },
  {
   "cell_type": "code",
   "execution_count": 9,
   "metadata": {},
   "outputs": [],
   "source": [
    "nba_stats = 'Seasons_Stats.csv'\n",
    "nba_df = pd.read_csv(nba_stats, low_memory=False)\n"
   ]
  },
  {
   "cell_type": "code",
   "execution_count": 35,
   "metadata": {},
   "outputs": [
    {
     "data": {
      "text/plain": [
       "Index(['Unnamed: 0', 'Year', 'Player', 'Pos', 'Age', 'Tm', 'G', 'GS', 'MP',\n",
       "       'PER', 'TS%', '3PAr', 'FTr', 'ORB%', 'DRB%', 'TRB%', 'AST%', 'STL%',\n",
       "       'BLK%', 'TOV%', 'USG%', 'blanl', 'OWS', 'DWS', 'WS', 'WS/48', 'blank2',\n",
       "       'OBPM', 'DBPM', 'BPM', 'VORP', 'FG', 'FGA', 'FG%', '3P', '3PA', '3P%',\n",
       "       '2P', '2PA', '2P%', 'eFG%', 'FT', 'FTA', 'FT%', 'ORB', 'DRB', 'TRB',\n",
       "       'AST', 'STL', 'BLK', 'TOV', 'PF', 'PTS'],\n",
       "      dtype='object')"
      ]
     },
     "execution_count": 35,
     "metadata": {},
     "output_type": "execute_result"
    }
   ],
   "source": [
    "nba_df=nba_df.loc[nba_df[\"Year\"]>= 1990]\n",
    "nba_df\n",
    "nba_df.columns\n",
    "joe_joe=nba_df.loc[nba_df[\"Player\"]== 'Joe Johnson']\n",
    "joe_joe\n",
    "nba_df.columns\n"
   ]
  },
  {
   "cell_type": "code",
   "execution_count": 28,
   "metadata": {},
   "outputs": [],
   "source": [
    "team_group= nba_df.groupby(\"Player\").mean()[\"3PA\"]"
   ]
  },
  {
   "cell_type": "code",
   "execution_count": 30,
   "metadata": {},
   "outputs": [
    {
     "data": {
      "text/plain": [
       "Player\n",
       "A.C. Green                34.214286\n",
       "A.J. Bramlett              0.000000\n",
       "A.J. English              32.500000\n",
       "A.J. Guyton               64.333333\n",
       "A.J. Hammons              10.000000\n",
       "A.J. Price                83.000000\n",
       "A.J. Wynder                1.000000\n",
       "Aaron Brooks             187.000000\n",
       "Aaron Gordon             152.333333\n",
       "Aaron Gray                 0.363636\n",
       "Aaron Harrison             6.000000\n",
       "Aaron McKie               75.000000\n",
       "Aaron Miles                0.000000\n",
       "Aaron Swinson              0.000000\n",
       "Aaron Williams             0.850000\n",
       "Acie Earl                  2.333333\n",
       "Acie Law                  18.555556\n",
       "Adam Harrington            9.333333\n",
       "Adam Keefe                 1.555556\n",
       "Adam Morrison             94.200000\n",
       "Adonal Foyle               0.142857\n",
       "Adonis Jordan              6.000000\n",
       "Adonis Thomas              3.333333\n",
       "Adreian Payne             13.000000\n",
       "Adrian Branch              1.000000\n",
       "Adrian Caldwell            0.625000\n",
       "Adrian Dantley*            2.500000\n",
       "Adrian Griffin            16.363636\n",
       "Al Harrington            177.050000\n",
       "Al Horford                56.300000\n",
       "Al Jefferson               4.846154\n",
       "Al Thornton               40.375000\n",
       "Al-Farouq Aminu          134.571429\n",
       "Alaa Abdelnaby             0.666667\n",
       "Alan Anderson            120.375000\n",
       "Alan Henderson             2.166667\n",
       "Alan Ogg                   0.400000\n",
       "Alan Williams              0.500000\n",
       "Alando Tucker              8.200000\n",
       "Albert King                7.000000\n",
       "Alec Burks                83.833333\n",
       "Alec Kessler               6.000000\n",
       "Aleksandar Djordjevic      7.000000\n",
       "Aleksandar Radojevic       0.000000\n",
       "Alex Abrines             247.000000\n",
       "Alex Acker                11.250000\n",
       "Alex Blackwell             3.000000\n",
       "Alex English*              3.000000\n",
       "Alex Garcia                9.000000\n",
       "Alex Kirk                  0.000000\n",
       "Name: 3PA, dtype: float64"
      ]
     },
     "execution_count": 30,
     "metadata": {},
     "output_type": "execute_result"
    }
   ],
   "source": [
    "team_group.head(50)"
   ]
  },
  {
   "cell_type": "code",
   "execution_count": null,
   "metadata": {},
   "outputs": [],
   "source": []
  }
 ],
 "metadata": {
  "kernelspec": {
   "display_name": "Python 3",
   "language": "python",
   "name": "python3"
  },
  "language_info": {
   "codemirror_mode": {
    "name": "ipython",
    "version": 3
   },
   "file_extension": ".py",
   "mimetype": "text/x-python",
   "name": "python",
   "nbconvert_exporter": "python",
   "pygments_lexer": "ipython3",
   "version": "3.7.6"
  }
 },
 "nbformat": 4,
 "nbformat_minor": 4
}
