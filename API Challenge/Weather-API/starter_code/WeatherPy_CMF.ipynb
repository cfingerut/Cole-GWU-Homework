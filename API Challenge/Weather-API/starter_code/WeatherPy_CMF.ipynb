{
 "cells": [
  {
   "cell_type": "markdown",
   "metadata": {},
   "source": [
    "# WeatherPy\n",
    "----\n",
    "\n",
    "#### Note\n",
    "* Instructions have been included for each segment. You do not have to follow them exactly, but they are included to help you think through the steps."
   ]
  },
  {
   "cell_type": "code",
   "execution_count": null,
   "metadata": {},
   "outputs": [],
   "source": []
  },
  {
   "cell_type": "code",
   "execution_count": 3,
   "metadata": {},
   "outputs": [
    {
     "name": "stdout",
     "output_type": "stream",
     "text": [
      "Requirement already satisfied: citipy in c:\\users\\cfing\\anaconda3\\lib\\site-packages (0.0.5)\n",
      "Requirement already satisfied: kdtree>=0.12 in c:\\users\\cfing\\anaconda3\\lib\\site-packages (from citipy) (0.16)\n"
     ]
    }
   ],
   "source": [
    "!pip install citipy\n"
   ]
  },
  {
   "cell_type": "code",
   "execution_count": 1,
   "metadata": {
    "scrolled": true
   },
   "outputs": [],
   "source": [
    "# Dependencies and Setup\n",
    "\n",
    "import matplotlib.pyplot as plt\n",
    "import pandas as pd\n",
    "import numpy as np\n",
    "import requests\n",
    "import time\n",
    "from scipy.stats import linregress\n",
    "\n",
    "# Import API key\n",
    "from api_keys import weather_api_key\n",
    "\n",
    "# Incorporated citipy to determine city based on latitude and longitude\n",
    "from citipy import citipy\n",
    "\n",
    "# Output File (CSV)\n",
    "output_data_file = \"output_data/cities.csv\"\n",
    "\n",
    "# Range of latitudes and longitudes\n",
    "lat_range = (-90, 90)\n",
    "lng_range = (-180, 180)"
   ]
  },
  {
   "cell_type": "markdown",
   "metadata": {},
   "source": [
    "## Generate Cities List"
   ]
  },
  {
   "cell_type": "code",
   "execution_count": 2,
   "metadata": {},
   "outputs": [
    {
     "data": {
      "text/plain": [
       "617"
      ]
     },
     "execution_count": 2,
     "metadata": {},
     "output_type": "execute_result"
    }
   ],
   "source": [
    "# List for holding lat_lngs and cities\n",
    "lat_lngs = []\n",
    "cities = []\n",
    "\n",
    "# Create a set of random lat and lng combinations\n",
    "lats = np.random.uniform(lat_range[0], lat_range[1], size=1500)\n",
    "lngs = np.random.uniform(lng_range[0], lng_range[1], size=1500)\n",
    "lat_lngs = zip(lats, lngs)\n",
    "\n",
    "# Identify nearest city for each lat, lng combination\n",
    "for lat_lng in lat_lngs:\n",
    "    city = citipy.nearest_city(lat_lng[0], lat_lng[1]).city_name\n",
    "    \n",
    "    # If the city is unique, then add it to a our cities list\n",
    "    if city not in cities:\n",
    "        cities.append(city)\n",
    "\n",
    "# Print the city count to confirm sufficient count\n",
    "len(cities)"
   ]
  },
  {
   "cell_type": "code",
   "execution_count": 3,
   "metadata": {},
   "outputs": [
    {
     "data": {
      "text/html": [
       "<div>\n",
       "<style scoped>\n",
       "    .dataframe tbody tr th:only-of-type {\n",
       "        vertical-align: middle;\n",
       "    }\n",
       "\n",
       "    .dataframe tbody tr th {\n",
       "        vertical-align: top;\n",
       "    }\n",
       "\n",
       "    .dataframe thead th {\n",
       "        text-align: right;\n",
       "    }\n",
       "</style>\n",
       "<table border=\"1\" class=\"dataframe\">\n",
       "  <thead>\n",
       "    <tr style=\"text-align: right;\">\n",
       "      <th></th>\n",
       "      <th>City</th>\n",
       "      <th>Lat</th>\n",
       "      <th>Long</th>\n",
       "      <th>Max Temperature</th>\n",
       "      <th>Humidity</th>\n",
       "      <th>Cloudiness %</th>\n",
       "      <th>Wind Speed</th>\n",
       "      <th>Country</th>\n",
       "      <th>Date</th>\n",
       "    </tr>\n",
       "  </thead>\n",
       "  <tbody>\n",
       "    <tr>\n",
       "      <th>0</th>\n",
       "      <td>linchuan</td>\n",
       "      <td></td>\n",
       "      <td></td>\n",
       "      <td></td>\n",
       "      <td></td>\n",
       "      <td></td>\n",
       "      <td></td>\n",
       "      <td></td>\n",
       "      <td></td>\n",
       "    </tr>\n",
       "    <tr>\n",
       "      <th>1</th>\n",
       "      <td>albany</td>\n",
       "      <td></td>\n",
       "      <td></td>\n",
       "      <td></td>\n",
       "      <td></td>\n",
       "      <td></td>\n",
       "      <td></td>\n",
       "      <td></td>\n",
       "      <td></td>\n",
       "    </tr>\n",
       "    <tr>\n",
       "      <th>2</th>\n",
       "      <td>safranbolu</td>\n",
       "      <td></td>\n",
       "      <td></td>\n",
       "      <td></td>\n",
       "      <td></td>\n",
       "      <td></td>\n",
       "      <td></td>\n",
       "      <td></td>\n",
       "      <td></td>\n",
       "    </tr>\n",
       "    <tr>\n",
       "      <th>3</th>\n",
       "      <td>cherskiy</td>\n",
       "      <td></td>\n",
       "      <td></td>\n",
       "      <td></td>\n",
       "      <td></td>\n",
       "      <td></td>\n",
       "      <td></td>\n",
       "      <td></td>\n",
       "      <td></td>\n",
       "    </tr>\n",
       "    <tr>\n",
       "      <th>4</th>\n",
       "      <td>ushuaia</td>\n",
       "      <td></td>\n",
       "      <td></td>\n",
       "      <td></td>\n",
       "      <td></td>\n",
       "      <td></td>\n",
       "      <td></td>\n",
       "      <td></td>\n",
       "      <td></td>\n",
       "    </tr>\n",
       "    <tr>\n",
       "      <th>...</th>\n",
       "      <td>...</td>\n",
       "      <td>...</td>\n",
       "      <td>...</td>\n",
       "      <td>...</td>\n",
       "      <td>...</td>\n",
       "      <td>...</td>\n",
       "      <td>...</td>\n",
       "      <td>...</td>\n",
       "      <td>...</td>\n",
       "    </tr>\n",
       "    <tr>\n",
       "      <th>612</th>\n",
       "      <td>sinnar</td>\n",
       "      <td></td>\n",
       "      <td></td>\n",
       "      <td></td>\n",
       "      <td></td>\n",
       "      <td></td>\n",
       "      <td></td>\n",
       "      <td></td>\n",
       "      <td></td>\n",
       "    </tr>\n",
       "    <tr>\n",
       "      <th>613</th>\n",
       "      <td>sikandra rao</td>\n",
       "      <td></td>\n",
       "      <td></td>\n",
       "      <td></td>\n",
       "      <td></td>\n",
       "      <td></td>\n",
       "      <td></td>\n",
       "      <td></td>\n",
       "      <td></td>\n",
       "    </tr>\n",
       "    <tr>\n",
       "      <th>614</th>\n",
       "      <td>odweyne</td>\n",
       "      <td></td>\n",
       "      <td></td>\n",
       "      <td></td>\n",
       "      <td></td>\n",
       "      <td></td>\n",
       "      <td></td>\n",
       "      <td></td>\n",
       "      <td></td>\n",
       "    </tr>\n",
       "    <tr>\n",
       "      <th>615</th>\n",
       "      <td>esna</td>\n",
       "      <td></td>\n",
       "      <td></td>\n",
       "      <td></td>\n",
       "      <td></td>\n",
       "      <td></td>\n",
       "      <td></td>\n",
       "      <td></td>\n",
       "      <td></td>\n",
       "    </tr>\n",
       "    <tr>\n",
       "      <th>616</th>\n",
       "      <td>chau doc</td>\n",
       "      <td></td>\n",
       "      <td></td>\n",
       "      <td></td>\n",
       "      <td></td>\n",
       "      <td></td>\n",
       "      <td></td>\n",
       "      <td></td>\n",
       "      <td></td>\n",
       "    </tr>\n",
       "  </tbody>\n",
       "</table>\n",
       "<p>617 rows × 9 columns</p>\n",
       "</div>"
      ],
      "text/plain": [
       "             City Lat Long Max Temperature Humidity Cloudiness % Wind Speed  \\\n",
       "0        linchuan                                                             \n",
       "1          albany                                                             \n",
       "2      safranbolu                                                             \n",
       "3        cherskiy                                                             \n",
       "4         ushuaia                                                             \n",
       "..            ...  ..  ...             ...      ...          ...        ...   \n",
       "612        sinnar                                                             \n",
       "613  sikandra rao                                                             \n",
       "614       odweyne                                                             \n",
       "615          esna                                                             \n",
       "616      chau doc                                                             \n",
       "\n",
       "    Country Date  \n",
       "0                 \n",
       "1                 \n",
       "2                 \n",
       "3                 \n",
       "4                 \n",
       "..      ...  ...  \n",
       "612               \n",
       "613               \n",
       "614               \n",
       "615               \n",
       "616               \n",
       "\n",
       "[617 rows x 9 columns]"
      ]
     },
     "execution_count": 3,
     "metadata": {},
     "output_type": "execute_result"
    }
   ],
   "source": [
    "cities\n",
    "cities_df= pd.DataFrame(cities)\n",
    "cities_df\n",
    "\n",
    "cities_df['Lat']= ''\n",
    "cities_df['Long']= ''\n",
    "cities_df['Max Temperature']= ''\n",
    "cities_df['Humidity']= ''\n",
    "cities_df['Cloudiness %']= ''\n",
    "cities_df['Wind Speed']= ''\n",
    "cities_df[\"Country\"]= ''\n",
    "cities_df[\"Date\"]= ''\n",
    "\n",
    "cities_df.rename(columns= {0 : \"City\"}, inplace=True)\n",
    "cities_df"
   ]
  },
  {
   "cell_type": "markdown",
   "metadata": {},
   "source": [
    "### Perform API Calls\n",
    "* Perform a weather check on each city using a series of successive API calls.\n",
    "* Include a print log of each city as it'sbeing processed (with the city number and city name).\n"
   ]
  },
  {
   "cell_type": "code",
   "execution_count": 4,
   "metadata": {},
   "outputs": [
    {
     "name": "stdout",
     "output_type": "stream",
     "text": [
      "Missing city........skipping\n",
      "Missing city........skipping\n",
      "Missing city........skipping\n",
      "Missing city........skipping\n",
      "Missing city........skipping\n",
      "Missing city........skipping\n",
      "Missing city........skipping\n",
      "Missing city........skipping\n",
      "Missing city........skipping\n",
      "Missing city........skipping\n",
      "Missing city........skipping\n",
      "Missing city........skipping\n",
      "Missing city........skipping\n",
      "Missing city........skipping\n",
      "Missing city........skipping\n",
      "Missing city........skipping\n",
      "Missing city........skipping\n",
      "Missing city........skipping\n",
      "Missing city........skipping\n",
      "Missing city........skipping\n",
      "Missing city........skipping\n",
      "Missing city........skipping\n",
      "Missing city........skipping\n",
      "Missing city........skipping\n",
      "Missing city........skipping\n",
      "Missing city........skipping\n",
      "Missing city........skipping\n",
      "Missing city........skipping\n",
      "Missing city........skipping\n",
      "Missing city........skipping\n",
      "Missing city........skipping\n",
      "Missing city........skipping\n",
      "Missing city........skipping\n",
      "Missing city........skipping\n",
      "Missing city........skipping\n",
      "Missing city........skipping\n",
      "Missing city........skipping\n",
      "Missing city........skipping\n",
      "Missing city........skipping\n",
      "Missing city........skipping\n",
      "Missing city........skipping\n",
      "Missing city........skipping\n"
     ]
    }
   ],
   "source": [
    "units= \"Imperial\"\n",
    "url = 'https://api.openweathermap.org/data/2.5/weather?'\n",
    "for index, row in cities_df.iterrows():\n",
    "    url = 'https://api.openweathermap.org/data/2.5/weather?'\n",
    "    city= row['City']\n",
    "    response= requests.get(url + \"&appid=\"+ weather_api_key + \"&q=\"+ city+ \"&units=\"+ units)\n",
    "    response= response.json()\n",
    "    try:\n",
    "        #print(f'{city} has been added to your DataFrame')\n",
    "        cities_df.loc[index, \"Lat\"]= response[\"coord\"][\"lat\"]\n",
    "        cities_df.loc[index, \"Long\"]= response[\"coord\"][\"lon\"]\n",
    "        cities_df.loc[index, \"Max Temperature\"]= response[\"main\"][\"temp_max\"]\n",
    "        cities_df.loc[index, \"Humidity\"]= response[\"main\"][\"humidity\"]\n",
    "        cities_df.loc[index, \"Cloudiness %\"]= response[\"clouds\"][\"all\"]\n",
    "        cities_df.loc[index, \"Wind Speed\"]= response[\"wind\"][\"speed\"]\n",
    "        cities_df.loc[index, \"Country\"]= response[\"sys\"][\"country\"]\n",
    "        cities_df.loc[index, \"Date\"]= response[\"dt\"]\n",
    "        \n",
    "        \n",
    "    except(KeyError, IndexError):\n",
    "        print(\"Missing city........skipping\")\n",
    "        \n",
    "    "
   ]
  },
  {
   "cell_type": "code",
   "execution_count": 5,
   "metadata": {},
   "outputs": [
    {
     "data": {
      "text/html": [
       "<div>\n",
       "<style scoped>\n",
       "    .dataframe tbody tr th:only-of-type {\n",
       "        vertical-align: middle;\n",
       "    }\n",
       "\n",
       "    .dataframe tbody tr th {\n",
       "        vertical-align: top;\n",
       "    }\n",
       "\n",
       "    .dataframe thead th {\n",
       "        text-align: right;\n",
       "    }\n",
       "</style>\n",
       "<table border=\"1\" class=\"dataframe\">\n",
       "  <thead>\n",
       "    <tr style=\"text-align: right;\">\n",
       "      <th></th>\n",
       "      <th>City</th>\n",
       "      <th>Lat</th>\n",
       "      <th>Long</th>\n",
       "      <th>Max Temperature</th>\n",
       "      <th>Humidity</th>\n",
       "      <th>Cloudiness %</th>\n",
       "      <th>Wind Speed</th>\n",
       "      <th>Country</th>\n",
       "      <th>Date</th>\n",
       "    </tr>\n",
       "  </thead>\n",
       "  <tbody>\n",
       "    <tr>\n",
       "      <th>0</th>\n",
       "      <td>linchuan</td>\n",
       "      <td></td>\n",
       "      <td></td>\n",
       "      <td></td>\n",
       "      <td></td>\n",
       "      <td></td>\n",
       "      <td></td>\n",
       "      <td></td>\n",
       "      <td></td>\n",
       "    </tr>\n",
       "    <tr>\n",
       "      <th>1</th>\n",
       "      <td>albany</td>\n",
       "      <td>42.6</td>\n",
       "      <td>-73.97</td>\n",
       "      <td>82</td>\n",
       "      <td>37</td>\n",
       "      <td>6</td>\n",
       "      <td>2.48</td>\n",
       "      <td>US</td>\n",
       "      <td>1590171863</td>\n",
       "    </tr>\n",
       "    <tr>\n",
       "      <th>2</th>\n",
       "      <td>safranbolu</td>\n",
       "      <td>41.25</td>\n",
       "      <td>32.69</td>\n",
       "      <td>41.31</td>\n",
       "      <td>85</td>\n",
       "      <td>11</td>\n",
       "      <td>2.62</td>\n",
       "      <td>TR</td>\n",
       "      <td>1590172546</td>\n",
       "    </tr>\n",
       "    <tr>\n",
       "      <th>3</th>\n",
       "      <td>cherskiy</td>\n",
       "      <td>68.75</td>\n",
       "      <td>161.3</td>\n",
       "      <td>28.67</td>\n",
       "      <td>95</td>\n",
       "      <td>88</td>\n",
       "      <td>15.5</td>\n",
       "      <td>RU</td>\n",
       "      <td>1590172157</td>\n",
       "    </tr>\n",
       "    <tr>\n",
       "      <th>4</th>\n",
       "      <td>ushuaia</td>\n",
       "      <td>-54.8</td>\n",
       "      <td>-68.3</td>\n",
       "      <td>53.6</td>\n",
       "      <td>37</td>\n",
       "      <td>75</td>\n",
       "      <td>13.87</td>\n",
       "      <td>AR</td>\n",
       "      <td>1590172035</td>\n",
       "    </tr>\n",
       "    <tr>\n",
       "      <th>...</th>\n",
       "      <td>...</td>\n",
       "      <td>...</td>\n",
       "      <td>...</td>\n",
       "      <td>...</td>\n",
       "      <td>...</td>\n",
       "      <td>...</td>\n",
       "      <td>...</td>\n",
       "      <td>...</td>\n",
       "      <td>...</td>\n",
       "    </tr>\n",
       "    <tr>\n",
       "      <th>612</th>\n",
       "      <td>sinnar</td>\n",
       "      <td>13.57</td>\n",
       "      <td>33.57</td>\n",
       "      <td>94.14</td>\n",
       "      <td>34</td>\n",
       "      <td>67</td>\n",
       "      <td>14.58</td>\n",
       "      <td>SD</td>\n",
       "      <td>1590172650</td>\n",
       "    </tr>\n",
       "    <tr>\n",
       "      <th>613</th>\n",
       "      <td>sikandra rao</td>\n",
       "      <td>27.7</td>\n",
       "      <td>78.4</td>\n",
       "      <td>95.25</td>\n",
       "      <td>12</td>\n",
       "      <td>3</td>\n",
       "      <td>6.38</td>\n",
       "      <td>IN</td>\n",
       "      <td>1590172650</td>\n",
       "    </tr>\n",
       "    <tr>\n",
       "      <th>614</th>\n",
       "      <td>odweyne</td>\n",
       "      <td>9.41</td>\n",
       "      <td>45.06</td>\n",
       "      <td>79.97</td>\n",
       "      <td>52</td>\n",
       "      <td>34</td>\n",
       "      <td>13.96</td>\n",
       "      <td>SO</td>\n",
       "      <td>1590172651</td>\n",
       "    </tr>\n",
       "    <tr>\n",
       "      <th>615</th>\n",
       "      <td>esna</td>\n",
       "      <td>25.29</td>\n",
       "      <td>32.55</td>\n",
       "      <td>104</td>\n",
       "      <td>21</td>\n",
       "      <td>0</td>\n",
       "      <td>16.96</td>\n",
       "      <td>EG</td>\n",
       "      <td>1590172651</td>\n",
       "    </tr>\n",
       "    <tr>\n",
       "      <th>616</th>\n",
       "      <td>chau doc</td>\n",
       "      <td>10.7</td>\n",
       "      <td>105.12</td>\n",
       "      <td>82.17</td>\n",
       "      <td>85</td>\n",
       "      <td>100</td>\n",
       "      <td>6.29</td>\n",
       "      <td>VN</td>\n",
       "      <td>1590172651</td>\n",
       "    </tr>\n",
       "  </tbody>\n",
       "</table>\n",
       "<p>617 rows × 9 columns</p>\n",
       "</div>"
      ],
      "text/plain": [
       "             City    Lat    Long Max Temperature Humidity Cloudiness %  \\\n",
       "0        linchuan                                                        \n",
       "1          albany   42.6  -73.97              82       37            6   \n",
       "2      safranbolu  41.25   32.69           41.31       85           11   \n",
       "3        cherskiy  68.75   161.3           28.67       95           88   \n",
       "4         ushuaia  -54.8   -68.3            53.6       37           75   \n",
       "..            ...    ...     ...             ...      ...          ...   \n",
       "612        sinnar  13.57   33.57           94.14       34           67   \n",
       "613  sikandra rao   27.7    78.4           95.25       12            3   \n",
       "614       odweyne   9.41   45.06           79.97       52           34   \n",
       "615          esna  25.29   32.55             104       21            0   \n",
       "616      chau doc   10.7  105.12           82.17       85          100   \n",
       "\n",
       "    Wind Speed Country        Date  \n",
       "0                                   \n",
       "1         2.48      US  1590171863  \n",
       "2         2.62      TR  1590172546  \n",
       "3         15.5      RU  1590172157  \n",
       "4        13.87      AR  1590172035  \n",
       "..         ...     ...         ...  \n",
       "612      14.58      SD  1590172650  \n",
       "613       6.38      IN  1590172650  \n",
       "614      13.96      SO  1590172651  \n",
       "615      16.96      EG  1590172651  \n",
       "616       6.29      VN  1590172651  \n",
       "\n",
       "[617 rows x 9 columns]"
      ]
     },
     "execution_count": 5,
     "metadata": {},
     "output_type": "execute_result"
    }
   ],
   "source": [
    "cities_df"
   ]
  },
  {
   "cell_type": "code",
   "execution_count": 17,
   "metadata": {},
   "outputs": [],
   "source": [
    "cities_full= cities_df.replace('', np.nan)"
   ]
  },
  {
   "cell_type": "markdown",
   "metadata": {},
   "source": [
    "### Convert Raw Data to DataFrame\n",
    "* Export the city data into a .csv.\n",
    "* Display the DataFrame"
   ]
  },
  {
   "cell_type": "code",
   "execution_count": 10,
   "metadata": {},
   "outputs": [],
   "source": []
  },
  {
   "cell_type": "code",
   "execution_count": 18,
   "metadata": {},
   "outputs": [],
   "source": [
    "\n",
    "clean_df= cities_full.dropna(axis=0)\n",
    "\n"
   ]
  },
  {
   "cell_type": "code",
   "execution_count": 19,
   "metadata": {},
   "outputs": [
    {
     "data": {
      "text/html": [
       "<div>\n",
       "<style scoped>\n",
       "    .dataframe tbody tr th:only-of-type {\n",
       "        vertical-align: middle;\n",
       "    }\n",
       "\n",
       "    .dataframe tbody tr th {\n",
       "        vertical-align: top;\n",
       "    }\n",
       "\n",
       "    .dataframe thead th {\n",
       "        text-align: right;\n",
       "    }\n",
       "</style>\n",
       "<table border=\"1\" class=\"dataframe\">\n",
       "  <thead>\n",
       "    <tr style=\"text-align: right;\">\n",
       "      <th></th>\n",
       "      <th>City</th>\n",
       "      <th>Lat</th>\n",
       "      <th>Long</th>\n",
       "      <th>Max Temperature</th>\n",
       "      <th>Humidity</th>\n",
       "      <th>Cloudiness %</th>\n",
       "      <th>Wind Speed</th>\n",
       "      <th>Country</th>\n",
       "      <th>Date</th>\n",
       "    </tr>\n",
       "  </thead>\n",
       "  <tbody>\n",
       "    <tr>\n",
       "      <th>1</th>\n",
       "      <td>albany</td>\n",
       "      <td>42.60</td>\n",
       "      <td>-73.97</td>\n",
       "      <td>82.00</td>\n",
       "      <td>37.0</td>\n",
       "      <td>6.0</td>\n",
       "      <td>2.48</td>\n",
       "      <td>US</td>\n",
       "      <td>1.590172e+09</td>\n",
       "    </tr>\n",
       "    <tr>\n",
       "      <th>2</th>\n",
       "      <td>safranbolu</td>\n",
       "      <td>41.25</td>\n",
       "      <td>32.69</td>\n",
       "      <td>41.31</td>\n",
       "      <td>85.0</td>\n",
       "      <td>11.0</td>\n",
       "      <td>2.62</td>\n",
       "      <td>TR</td>\n",
       "      <td>1.590173e+09</td>\n",
       "    </tr>\n",
       "    <tr>\n",
       "      <th>3</th>\n",
       "      <td>cherskiy</td>\n",
       "      <td>68.75</td>\n",
       "      <td>161.30</td>\n",
       "      <td>28.67</td>\n",
       "      <td>95.0</td>\n",
       "      <td>88.0</td>\n",
       "      <td>15.50</td>\n",
       "      <td>RU</td>\n",
       "      <td>1.590172e+09</td>\n",
       "    </tr>\n",
       "    <tr>\n",
       "      <th>4</th>\n",
       "      <td>ushuaia</td>\n",
       "      <td>-54.80</td>\n",
       "      <td>-68.30</td>\n",
       "      <td>53.60</td>\n",
       "      <td>37.0</td>\n",
       "      <td>75.0</td>\n",
       "      <td>13.87</td>\n",
       "      <td>AR</td>\n",
       "      <td>1.590172e+09</td>\n",
       "    </tr>\n",
       "    <tr>\n",
       "      <th>5</th>\n",
       "      <td>hobart</td>\n",
       "      <td>-42.88</td>\n",
       "      <td>147.33</td>\n",
       "      <td>39.99</td>\n",
       "      <td>93.0</td>\n",
       "      <td>0.0</td>\n",
       "      <td>8.05</td>\n",
       "      <td>AU</td>\n",
       "      <td>1.590172e+09</td>\n",
       "    </tr>\n",
       "    <tr>\n",
       "      <th>...</th>\n",
       "      <td>...</td>\n",
       "      <td>...</td>\n",
       "      <td>...</td>\n",
       "      <td>...</td>\n",
       "      <td>...</td>\n",
       "      <td>...</td>\n",
       "      <td>...</td>\n",
       "      <td>...</td>\n",
       "      <td>...</td>\n",
       "    </tr>\n",
       "    <tr>\n",
       "      <th>612</th>\n",
       "      <td>sinnar</td>\n",
       "      <td>13.57</td>\n",
       "      <td>33.57</td>\n",
       "      <td>94.14</td>\n",
       "      <td>34.0</td>\n",
       "      <td>67.0</td>\n",
       "      <td>14.58</td>\n",
       "      <td>SD</td>\n",
       "      <td>1.590173e+09</td>\n",
       "    </tr>\n",
       "    <tr>\n",
       "      <th>613</th>\n",
       "      <td>sikandra rao</td>\n",
       "      <td>27.70</td>\n",
       "      <td>78.40</td>\n",
       "      <td>95.25</td>\n",
       "      <td>12.0</td>\n",
       "      <td>3.0</td>\n",
       "      <td>6.38</td>\n",
       "      <td>IN</td>\n",
       "      <td>1.590173e+09</td>\n",
       "    </tr>\n",
       "    <tr>\n",
       "      <th>614</th>\n",
       "      <td>odweyne</td>\n",
       "      <td>9.41</td>\n",
       "      <td>45.06</td>\n",
       "      <td>79.97</td>\n",
       "      <td>52.0</td>\n",
       "      <td>34.0</td>\n",
       "      <td>13.96</td>\n",
       "      <td>SO</td>\n",
       "      <td>1.590173e+09</td>\n",
       "    </tr>\n",
       "    <tr>\n",
       "      <th>615</th>\n",
       "      <td>esna</td>\n",
       "      <td>25.29</td>\n",
       "      <td>32.55</td>\n",
       "      <td>104.00</td>\n",
       "      <td>21.0</td>\n",
       "      <td>0.0</td>\n",
       "      <td>16.96</td>\n",
       "      <td>EG</td>\n",
       "      <td>1.590173e+09</td>\n",
       "    </tr>\n",
       "    <tr>\n",
       "      <th>616</th>\n",
       "      <td>chau doc</td>\n",
       "      <td>10.70</td>\n",
       "      <td>105.12</td>\n",
       "      <td>82.17</td>\n",
       "      <td>85.0</td>\n",
       "      <td>100.0</td>\n",
       "      <td>6.29</td>\n",
       "      <td>VN</td>\n",
       "      <td>1.590173e+09</td>\n",
       "    </tr>\n",
       "  </tbody>\n",
       "</table>\n",
       "<p>575 rows × 9 columns</p>\n",
       "</div>"
      ],
      "text/plain": [
       "             City    Lat    Long  Max Temperature  Humidity  Cloudiness %  \\\n",
       "1          albany  42.60  -73.97            82.00      37.0           6.0   \n",
       "2      safranbolu  41.25   32.69            41.31      85.0          11.0   \n",
       "3        cherskiy  68.75  161.30            28.67      95.0          88.0   \n",
       "4         ushuaia -54.80  -68.30            53.60      37.0          75.0   \n",
       "5          hobart -42.88  147.33            39.99      93.0           0.0   \n",
       "..            ...    ...     ...              ...       ...           ...   \n",
       "612        sinnar  13.57   33.57            94.14      34.0          67.0   \n",
       "613  sikandra rao  27.70   78.40            95.25      12.0           3.0   \n",
       "614       odweyne   9.41   45.06            79.97      52.0          34.0   \n",
       "615          esna  25.29   32.55           104.00      21.0           0.0   \n",
       "616      chau doc  10.70  105.12            82.17      85.0         100.0   \n",
       "\n",
       "     Wind Speed Country          Date  \n",
       "1          2.48      US  1.590172e+09  \n",
       "2          2.62      TR  1.590173e+09  \n",
       "3         15.50      RU  1.590172e+09  \n",
       "4         13.87      AR  1.590172e+09  \n",
       "5          8.05      AU  1.590172e+09  \n",
       "..          ...     ...           ...  \n",
       "612       14.58      SD  1.590173e+09  \n",
       "613        6.38      IN  1.590173e+09  \n",
       "614       13.96      SO  1.590173e+09  \n",
       "615       16.96      EG  1.590173e+09  \n",
       "616        6.29      VN  1.590173e+09  \n",
       "\n",
       "[575 rows x 9 columns]"
      ]
     },
     "execution_count": 19,
     "metadata": {},
     "output_type": "execute_result"
    }
   ],
   "source": [
    "clean_df"
   ]
  },
  {
   "cell_type": "code",
   "execution_count": 21,
   "metadata": {},
   "outputs": [
    {
     "data": {
      "text/html": [
       "<div>\n",
       "<style scoped>\n",
       "    .dataframe tbody tr th:only-of-type {\n",
       "        vertical-align: middle;\n",
       "    }\n",
       "\n",
       "    .dataframe tbody tr th {\n",
       "        vertical-align: top;\n",
       "    }\n",
       "\n",
       "    .dataframe thead th {\n",
       "        text-align: right;\n",
       "    }\n",
       "</style>\n",
       "<table border=\"1\" class=\"dataframe\">\n",
       "  <thead>\n",
       "    <tr style=\"text-align: right;\">\n",
       "      <th></th>\n",
       "      <th>City</th>\n",
       "      <th>Lat</th>\n",
       "      <th>Long</th>\n",
       "      <th>Max Temperature</th>\n",
       "      <th>Humidity</th>\n",
       "      <th>Cloudiness %</th>\n",
       "      <th>Wind Speed</th>\n",
       "      <th>Country</th>\n",
       "      <th>Date</th>\n",
       "    </tr>\n",
       "  </thead>\n",
       "  <tbody>\n",
       "    <tr>\n",
       "      <th>1</th>\n",
       "      <td>albany</td>\n",
       "      <td>42.60</td>\n",
       "      <td>-73.97</td>\n",
       "      <td>82.00</td>\n",
       "      <td>37.0</td>\n",
       "      <td>6.0</td>\n",
       "      <td>2.48</td>\n",
       "      <td>US</td>\n",
       "      <td>1.590172e+09</td>\n",
       "    </tr>\n",
       "    <tr>\n",
       "      <th>2</th>\n",
       "      <td>safranbolu</td>\n",
       "      <td>41.25</td>\n",
       "      <td>32.69</td>\n",
       "      <td>41.31</td>\n",
       "      <td>85.0</td>\n",
       "      <td>11.0</td>\n",
       "      <td>2.62</td>\n",
       "      <td>TR</td>\n",
       "      <td>1.590173e+09</td>\n",
       "    </tr>\n",
       "    <tr>\n",
       "      <th>3</th>\n",
       "      <td>cherskiy</td>\n",
       "      <td>68.75</td>\n",
       "      <td>161.30</td>\n",
       "      <td>28.67</td>\n",
       "      <td>95.0</td>\n",
       "      <td>88.0</td>\n",
       "      <td>15.50</td>\n",
       "      <td>RU</td>\n",
       "      <td>1.590172e+09</td>\n",
       "    </tr>\n",
       "    <tr>\n",
       "      <th>4</th>\n",
       "      <td>ushuaia</td>\n",
       "      <td>-54.80</td>\n",
       "      <td>-68.30</td>\n",
       "      <td>53.60</td>\n",
       "      <td>37.0</td>\n",
       "      <td>75.0</td>\n",
       "      <td>13.87</td>\n",
       "      <td>AR</td>\n",
       "      <td>1.590172e+09</td>\n",
       "    </tr>\n",
       "    <tr>\n",
       "      <th>5</th>\n",
       "      <td>hobart</td>\n",
       "      <td>-42.88</td>\n",
       "      <td>147.33</td>\n",
       "      <td>39.99</td>\n",
       "      <td>93.0</td>\n",
       "      <td>0.0</td>\n",
       "      <td>8.05</td>\n",
       "      <td>AU</td>\n",
       "      <td>1.590172e+09</td>\n",
       "    </tr>\n",
       "    <tr>\n",
       "      <th>...</th>\n",
       "      <td>...</td>\n",
       "      <td>...</td>\n",
       "      <td>...</td>\n",
       "      <td>...</td>\n",
       "      <td>...</td>\n",
       "      <td>...</td>\n",
       "      <td>...</td>\n",
       "      <td>...</td>\n",
       "      <td>...</td>\n",
       "    </tr>\n",
       "    <tr>\n",
       "      <th>612</th>\n",
       "      <td>sinnar</td>\n",
       "      <td>13.57</td>\n",
       "      <td>33.57</td>\n",
       "      <td>94.14</td>\n",
       "      <td>34.0</td>\n",
       "      <td>67.0</td>\n",
       "      <td>14.58</td>\n",
       "      <td>SD</td>\n",
       "      <td>1.590173e+09</td>\n",
       "    </tr>\n",
       "    <tr>\n",
       "      <th>613</th>\n",
       "      <td>sikandra rao</td>\n",
       "      <td>27.70</td>\n",
       "      <td>78.40</td>\n",
       "      <td>95.25</td>\n",
       "      <td>12.0</td>\n",
       "      <td>3.0</td>\n",
       "      <td>6.38</td>\n",
       "      <td>IN</td>\n",
       "      <td>1.590173e+09</td>\n",
       "    </tr>\n",
       "    <tr>\n",
       "      <th>614</th>\n",
       "      <td>odweyne</td>\n",
       "      <td>9.41</td>\n",
       "      <td>45.06</td>\n",
       "      <td>79.97</td>\n",
       "      <td>52.0</td>\n",
       "      <td>34.0</td>\n",
       "      <td>13.96</td>\n",
       "      <td>SO</td>\n",
       "      <td>1.590173e+09</td>\n",
       "    </tr>\n",
       "    <tr>\n",
       "      <th>615</th>\n",
       "      <td>esna</td>\n",
       "      <td>25.29</td>\n",
       "      <td>32.55</td>\n",
       "      <td>104.00</td>\n",
       "      <td>21.0</td>\n",
       "      <td>0.0</td>\n",
       "      <td>16.96</td>\n",
       "      <td>EG</td>\n",
       "      <td>1.590173e+09</td>\n",
       "    </tr>\n",
       "    <tr>\n",
       "      <th>616</th>\n",
       "      <td>chau doc</td>\n",
       "      <td>10.70</td>\n",
       "      <td>105.12</td>\n",
       "      <td>82.17</td>\n",
       "      <td>85.0</td>\n",
       "      <td>100.0</td>\n",
       "      <td>6.29</td>\n",
       "      <td>VN</td>\n",
       "      <td>1.590173e+09</td>\n",
       "    </tr>\n",
       "  </tbody>\n",
       "</table>\n",
       "<p>575 rows × 9 columns</p>\n",
       "</div>"
      ],
      "text/plain": [
       "             City    Lat    Long  Max Temperature  Humidity  Cloudiness %  \\\n",
       "1          albany  42.60  -73.97            82.00      37.0           6.0   \n",
       "2      safranbolu  41.25   32.69            41.31      85.0          11.0   \n",
       "3        cherskiy  68.75  161.30            28.67      95.0          88.0   \n",
       "4         ushuaia -54.80  -68.30            53.60      37.0          75.0   \n",
       "5          hobart -42.88  147.33            39.99      93.0           0.0   \n",
       "..            ...    ...     ...              ...       ...           ...   \n",
       "612        sinnar  13.57   33.57            94.14      34.0          67.0   \n",
       "613  sikandra rao  27.70   78.40            95.25      12.0           3.0   \n",
       "614       odweyne   9.41   45.06            79.97      52.0          34.0   \n",
       "615          esna  25.29   32.55           104.00      21.0           0.0   \n",
       "616      chau doc  10.70  105.12            82.17      85.0         100.0   \n",
       "\n",
       "     Wind Speed Country          Date  \n",
       "1          2.48      US  1.590172e+09  \n",
       "2          2.62      TR  1.590173e+09  \n",
       "3         15.50      RU  1.590172e+09  \n",
       "4         13.87      AR  1.590172e+09  \n",
       "5          8.05      AU  1.590172e+09  \n",
       "..          ...     ...           ...  \n",
       "612       14.58      SD  1.590173e+09  \n",
       "613        6.38      IN  1.590173e+09  \n",
       "614       13.96      SO  1.590173e+09  \n",
       "615       16.96      EG  1.590173e+09  \n",
       "616        6.29      VN  1.590173e+09  \n",
       "\n",
       "[575 rows x 9 columns]"
      ]
     },
     "execution_count": 21,
     "metadata": {},
     "output_type": "execute_result"
    }
   ],
   "source": [
    "clean_df.to_csv(\"cleaned_final.csv\")\n",
    "clean_df"
   ]
  },
  {
   "cell_type": "markdown",
   "metadata": {},
   "source": [
    "## Inspect the data and remove the cities where the humidity > 100%.\n",
    "----\n",
    "Skip this step if there are no cities that have humidity > 100%. "
   ]
  },
  {
   "cell_type": "code",
   "execution_count": 20,
   "metadata": {},
   "outputs": [
    {
     "data": {
      "text/html": [
       "<div>\n",
       "<style scoped>\n",
       "    .dataframe tbody tr th:only-of-type {\n",
       "        vertical-align: middle;\n",
       "    }\n",
       "\n",
       "    .dataframe tbody tr th {\n",
       "        vertical-align: top;\n",
       "    }\n",
       "\n",
       "    .dataframe thead th {\n",
       "        text-align: right;\n",
       "    }\n",
       "</style>\n",
       "<table border=\"1\" class=\"dataframe\">\n",
       "  <thead>\n",
       "    <tr style=\"text-align: right;\">\n",
       "      <th></th>\n",
       "      <th>Lat</th>\n",
       "      <th>Long</th>\n",
       "      <th>Max Temperature</th>\n",
       "      <th>Humidity</th>\n",
       "      <th>Cloudiness %</th>\n",
       "      <th>Wind Speed</th>\n",
       "      <th>Date</th>\n",
       "    </tr>\n",
       "  </thead>\n",
       "  <tbody>\n",
       "    <tr>\n",
       "      <th>count</th>\n",
       "      <td>575.000000</td>\n",
       "      <td>575.000000</td>\n",
       "      <td>575.000000</td>\n",
       "      <td>575.000000</td>\n",
       "      <td>575.000000</td>\n",
       "      <td>575.000000</td>\n",
       "      <td>5.750000e+02</td>\n",
       "    </tr>\n",
       "    <tr>\n",
       "      <th>mean</th>\n",
       "      <td>19.487983</td>\n",
       "      <td>16.739548</td>\n",
       "      <td>66.827565</td>\n",
       "      <td>67.266087</td>\n",
       "      <td>50.617391</td>\n",
       "      <td>9.033617</td>\n",
       "      <td>1.590172e+09</td>\n",
       "    </tr>\n",
       "    <tr>\n",
       "      <th>std</th>\n",
       "      <td>32.818981</td>\n",
       "      <td>92.131861</td>\n",
       "      <td>16.991740</td>\n",
       "      <td>22.086553</td>\n",
       "      <td>40.081533</td>\n",
       "      <td>5.738117</td>\n",
       "      <td>2.066985e+02</td>\n",
       "    </tr>\n",
       "    <tr>\n",
       "      <th>min</th>\n",
       "      <td>-54.800000</td>\n",
       "      <td>-179.170000</td>\n",
       "      <td>20.480000</td>\n",
       "      <td>3.000000</td>\n",
       "      <td>0.000000</td>\n",
       "      <td>0.400000</td>\n",
       "      <td>1.590172e+09</td>\n",
       "    </tr>\n",
       "    <tr>\n",
       "      <th>25%</th>\n",
       "      <td>-8.470000</td>\n",
       "      <td>-67.055000</td>\n",
       "      <td>55.000000</td>\n",
       "      <td>54.000000</td>\n",
       "      <td>5.000000</td>\n",
       "      <td>4.515000</td>\n",
       "      <td>1.590172e+09</td>\n",
       "    </tr>\n",
       "    <tr>\n",
       "      <th>50%</th>\n",
       "      <td>22.300000</td>\n",
       "      <td>20.390000</td>\n",
       "      <td>68.500000</td>\n",
       "      <td>74.000000</td>\n",
       "      <td>45.000000</td>\n",
       "      <td>8.050000</td>\n",
       "      <td>1.590173e+09</td>\n",
       "    </tr>\n",
       "    <tr>\n",
       "      <th>75%</th>\n",
       "      <td>46.440000</td>\n",
       "      <td>100.345000</td>\n",
       "      <td>80.270000</td>\n",
       "      <td>83.000000</td>\n",
       "      <td>90.000000</td>\n",
       "      <td>12.750000</td>\n",
       "      <td>1.590173e+09</td>\n",
       "    </tr>\n",
       "    <tr>\n",
       "      <th>max</th>\n",
       "      <td>78.220000</td>\n",
       "      <td>179.320000</td>\n",
       "      <td>111.200000</td>\n",
       "      <td>100.000000</td>\n",
       "      <td>100.000000</td>\n",
       "      <td>28.860000</td>\n",
       "      <td>1.590173e+09</td>\n",
       "    </tr>\n",
       "  </tbody>\n",
       "</table>\n",
       "</div>"
      ],
      "text/plain": [
       "              Lat        Long  Max Temperature    Humidity  Cloudiness %  \\\n",
       "count  575.000000  575.000000       575.000000  575.000000    575.000000   \n",
       "mean    19.487983   16.739548        66.827565   67.266087     50.617391   \n",
       "std     32.818981   92.131861        16.991740   22.086553     40.081533   \n",
       "min    -54.800000 -179.170000        20.480000    3.000000      0.000000   \n",
       "25%     -8.470000  -67.055000        55.000000   54.000000      5.000000   \n",
       "50%     22.300000   20.390000        68.500000   74.000000     45.000000   \n",
       "75%     46.440000  100.345000        80.270000   83.000000     90.000000   \n",
       "max     78.220000  179.320000       111.200000  100.000000    100.000000   \n",
       "\n",
       "       Wind Speed          Date  \n",
       "count  575.000000  5.750000e+02  \n",
       "mean     9.033617  1.590172e+09  \n",
       "std      5.738117  2.066985e+02  \n",
       "min      0.400000  1.590172e+09  \n",
       "25%      4.515000  1.590172e+09  \n",
       "50%      8.050000  1.590173e+09  \n",
       "75%     12.750000  1.590173e+09  \n",
       "max     28.860000  1.590173e+09  "
      ]
     },
     "execution_count": 20,
     "metadata": {},
     "output_type": "execute_result"
    }
   ],
   "source": [
    "clean_df.describe()"
   ]
  },
  {
   "cell_type": "code",
   "execution_count": 23,
   "metadata": {},
   "outputs": [],
   "source": [
    "#  Get the indices of cities that have humidity over 100%.\n",
    "weather_df= clean_df.loc[clean_df['Humidity']< 100]\n",
    "weather_df.to_csv(\"weather_for_import.csv\")"
   ]
  },
  {
   "cell_type": "markdown",
   "metadata": {},
   "source": [
    "## Plotting the Data\n",
    "* Use proper labeling of the plots using plot titles (including date of analysis) and axes labels.\n",
    "* Save the plotted figures as .pngs."
   ]
  },
  {
   "cell_type": "markdown",
   "metadata": {},
   "source": [
    "## Latitude vs. Temperature Plot"
   ]
  },
  {
   "cell_type": "code",
   "execution_count": 24,
   "metadata": {
    "scrolled": true
   },
   "outputs": [
    {
     "data": {
      "image/png": "[encoded data removed]",
      "text/plain": [
       "<Figure size 432x288 with 1 Axes>"
      ]
     },
     "metadata": {
      "needs_background": "light"
     },
     "output_type": "display_data"
    }
   ],
   "source": [
    "x = weather_df[\"Lat\"]\n",
    "y= weather_df[\"Max Temperature\"]\n",
    "\n",
    "plt.scatter(x,y, facecolors= \"blue\")\n",
    "plt.title(\"City Latitude vs. Max Temperature\")\n",
    "plt.xlabel(\"Latitude\")\n",
    "plt.ylabel(\"Max Temperature\")\n",
    "plt.grid(b=True)"
   ]
  },
  {
   "cell_type": "markdown",
   "metadata": {},
   "source": [
    "## Latitude vs. Humidity Plot"
   ]
  },
  {
   "cell_type": "code",
   "execution_count": 25,
   "metadata": {},
   "outputs": [
    {
     "data": {
      "image/png": "[encoded data removed]",
      "text/plain": [
       "<Figure size 432x288 with 1 Axes>"
      ]
     },
     "metadata": {
      "needs_background": "light"
     },
     "output_type": "display_data"
    }
   ],
   "source": [
    "x = weather_df[\"Lat\"]\n",
    "y= weather_df[\"Humidity\"]\n",
    "\n",
    "plt.scatter(x,y, facecolors= \"blue\")\n",
    "plt.title(\"City Latitude vs. Humidity\")\n",
    "plt.xlabel(\"Latitude\")\n",
    "plt.ylabel(\"Humidity\")\n",
    "plt.grid(b=True)"
   ]
  },
  {
   "cell_type": "markdown",
   "metadata": {},
   "source": [
    "## Latitude vs. Cloudiness Plot"
   ]
  },
  {
   "cell_type": "code",
   "execution_count": 28,
   "metadata": {},
   "outputs": [
    {
     "data": {
      "image/png": "[encoded data removed]",
      "text/plain": [
       "<Figure size 432x288 with 1 Axes>"
      ]
     },
     "metadata": {
      "needs_background": "light"
     },
     "output_type": "display_data"
    }
   ],
   "source": [
    "x = weather_df[\"Lat\"]\n",
    "y= weather_df[\"Cloudiness %\"]\n",
    "\n",
    "plt.scatter(x,y, facecolors= \"blue\")\n",
    "plt.title(\"City Latitude vs. Cloudiness %\")\n",
    "plt.xlabel(\"Latitude\")\n",
    "plt.ylabel(\"Cloudiness %\")\n",
    "plt.grid(b=True)"
   ]
  },
  {
   "cell_type": "markdown",
   "metadata": {},
   "source": [
    "## Latitude vs. Wind Speed Plot"
   ]
  },
  {
   "cell_type": "code",
   "execution_count": 29,
   "metadata": {},
   "outputs": [
    {
     "data": {
      "image/png": "[encoded data removed]",
      "text/plain": [
       "<Figure size 432x288 with 1 Axes>"
      ]
     },
     "metadata": {
      "needs_background": "light"
     },
     "output_type": "display_data"
    }
   ],
   "source": [
    "x = weather_df[\"Lat\"]\n",
    "y= weather_df[\"Wind Speed\"]\n",
    "\n",
    "plt.scatter(x,y, facecolors= \"blue\")\n",
    "plt.title(\"City Latitude vs. Wind Speed\")\n",
    "plt.xlabel(\"Latitude\")\n",
    "plt.ylabel(\"Wind Speed\")\n",
    "plt.grid(b=True)"
   ]
  },
  {
   "cell_type": "markdown",
   "metadata": {},
   "source": [
    "## Linear Regression"
   ]
  },
  {
   "cell_type": "code",
   "execution_count": 30,
   "metadata": {},
   "outputs": [],
   "source": [
    "# OPTIONAL: Create a function to create Linear Regression plots"
   ]
  },
  {
   "cell_type": "code",
   "execution_count": 31,
   "metadata": {},
   "outputs": [
    {
     "data": {
      "text/html": [
       "<div>\n",
       "<style scoped>\n",
       "    .dataframe tbody tr th:only-of-type {\n",
       "        vertical-align: middle;\n",
       "    }\n",
       "\n",
       "    .dataframe tbody tr th {\n",
       "        vertical-align: top;\n",
       "    }\n",
       "\n",
       "    .dataframe thead th {\n",
       "        text-align: right;\n",
       "    }\n",
       "</style>\n",
       "<table border=\"1\" class=\"dataframe\">\n",
       "  <thead>\n",
       "    <tr style=\"text-align: right;\">\n",
       "      <th></th>\n",
       "      <th>City</th>\n",
       "      <th>Lat</th>\n",
       "      <th>Long</th>\n",
       "      <th>Max Temperature</th>\n",
       "      <th>Humidity</th>\n",
       "      <th>Cloudiness %</th>\n",
       "      <th>Wind Speed</th>\n",
       "      <th>Country</th>\n",
       "      <th>Date</th>\n",
       "    </tr>\n",
       "  </thead>\n",
       "  <tbody>\n",
       "    <tr>\n",
       "      <th>4</th>\n",
       "      <td>ushuaia</td>\n",
       "      <td>-54.80</td>\n",
       "      <td>-68.30</td>\n",
       "      <td>53.60</td>\n",
       "      <td>37.0</td>\n",
       "      <td>75.0</td>\n",
       "      <td>13.87</td>\n",
       "      <td>AR</td>\n",
       "      <td>1.590172e+09</td>\n",
       "    </tr>\n",
       "    <tr>\n",
       "      <th>5</th>\n",
       "      <td>hobart</td>\n",
       "      <td>-42.88</td>\n",
       "      <td>147.33</td>\n",
       "      <td>39.99</td>\n",
       "      <td>93.0</td>\n",
       "      <td>0.0</td>\n",
       "      <td>8.05</td>\n",
       "      <td>AU</td>\n",
       "      <td>1.590172e+09</td>\n",
       "    </tr>\n",
       "    <tr>\n",
       "      <th>6</th>\n",
       "      <td>isangel</td>\n",
       "      <td>-19.55</td>\n",
       "      <td>169.27</td>\n",
       "      <td>62.60</td>\n",
       "      <td>93.0</td>\n",
       "      <td>20.0</td>\n",
       "      <td>6.96</td>\n",
       "      <td>VU</td>\n",
       "      <td>1.590172e+09</td>\n",
       "    </tr>\n",
       "    <tr>\n",
       "      <th>8</th>\n",
       "      <td>punta arenas</td>\n",
       "      <td>-53.15</td>\n",
       "      <td>-70.92</td>\n",
       "      <td>44.60</td>\n",
       "      <td>87.0</td>\n",
       "      <td>90.0</td>\n",
       "      <td>9.17</td>\n",
       "      <td>CL</td>\n",
       "      <td>1.590172e+09</td>\n",
       "    </tr>\n",
       "    <tr>\n",
       "      <th>9</th>\n",
       "      <td>calvinia</td>\n",
       "      <td>-31.47</td>\n",
       "      <td>19.78</td>\n",
       "      <td>57.18</td>\n",
       "      <td>58.0</td>\n",
       "      <td>0.0</td>\n",
       "      <td>1.52</td>\n",
       "      <td>ZA</td>\n",
       "      <td>1.590173e+09</td>\n",
       "    </tr>\n",
       "    <tr>\n",
       "      <th>...</th>\n",
       "      <td>...</td>\n",
       "      <td>...</td>\n",
       "      <td>...</td>\n",
       "      <td>...</td>\n",
       "      <td>...</td>\n",
       "      <td>...</td>\n",
       "      <td>...</td>\n",
       "      <td>...</td>\n",
       "      <td>...</td>\n",
       "    </tr>\n",
       "    <tr>\n",
       "      <th>598</th>\n",
       "      <td>upington</td>\n",
       "      <td>-28.45</td>\n",
       "      <td>21.26</td>\n",
       "      <td>68.00</td>\n",
       "      <td>28.0</td>\n",
       "      <td>0.0</td>\n",
       "      <td>1.12</td>\n",
       "      <td>ZA</td>\n",
       "      <td>1.590173e+09</td>\n",
       "    </tr>\n",
       "    <tr>\n",
       "      <th>601</th>\n",
       "      <td>sao joao da barra</td>\n",
       "      <td>-21.64</td>\n",
       "      <td>-41.05</td>\n",
       "      <td>80.60</td>\n",
       "      <td>61.0</td>\n",
       "      <td>0.0</td>\n",
       "      <td>18.34</td>\n",
       "      <td>BR</td>\n",
       "      <td>1.590172e+09</td>\n",
       "    </tr>\n",
       "    <tr>\n",
       "      <th>603</th>\n",
       "      <td>tuatapere</td>\n",
       "      <td>-46.13</td>\n",
       "      <td>167.68</td>\n",
       "      <td>43.38</td>\n",
       "      <td>85.0</td>\n",
       "      <td>5.0</td>\n",
       "      <td>4.23</td>\n",
       "      <td>NZ</td>\n",
       "      <td>1.590172e+09</td>\n",
       "    </tr>\n",
       "    <tr>\n",
       "      <th>605</th>\n",
       "      <td>tutoia</td>\n",
       "      <td>-2.76</td>\n",
       "      <td>-42.27</td>\n",
       "      <td>83.70</td>\n",
       "      <td>75.0</td>\n",
       "      <td>16.0</td>\n",
       "      <td>12.53</td>\n",
       "      <td>BR</td>\n",
       "      <td>1.590173e+09</td>\n",
       "    </tr>\n",
       "    <tr>\n",
       "      <th>607</th>\n",
       "      <td>rehoboth</td>\n",
       "      <td>-23.32</td>\n",
       "      <td>17.08</td>\n",
       "      <td>60.04</td>\n",
       "      <td>33.0</td>\n",
       "      <td>0.0</td>\n",
       "      <td>6.26</td>\n",
       "      <td>NA</td>\n",
       "      <td>1.590173e+09</td>\n",
       "    </tr>\n",
       "  </tbody>\n",
       "</table>\n",
       "<p>178 rows × 9 columns</p>\n",
       "</div>"
      ],
      "text/plain": [
       "                  City    Lat    Long  Max Temperature  Humidity  \\\n",
       "4              ushuaia -54.80  -68.30            53.60      37.0   \n",
       "5               hobart -42.88  147.33            39.99      93.0   \n",
       "6              isangel -19.55  169.27            62.60      93.0   \n",
       "8         punta arenas -53.15  -70.92            44.60      87.0   \n",
       "9             calvinia -31.47   19.78            57.18      58.0   \n",
       "..                 ...    ...     ...              ...       ...   \n",
       "598           upington -28.45   21.26            68.00      28.0   \n",
       "601  sao joao da barra -21.64  -41.05            80.60      61.0   \n",
       "603          tuatapere -46.13  167.68            43.38      85.0   \n",
       "605             tutoia  -2.76  -42.27            83.70      75.0   \n",
       "607           rehoboth -23.32   17.08            60.04      33.0   \n",
       "\n",
       "     Cloudiness %  Wind Speed Country          Date  \n",
       "4            75.0       13.87      AR  1.590172e+09  \n",
       "5             0.0        8.05      AU  1.590172e+09  \n",
       "6            20.0        6.96      VU  1.590172e+09  \n",
       "8            90.0        9.17      CL  1.590172e+09  \n",
       "9             0.0        1.52      ZA  1.590173e+09  \n",
       "..            ...         ...     ...           ...  \n",
       "598           0.0        1.12      ZA  1.590173e+09  \n",
       "601           0.0       18.34      BR  1.590172e+09  \n",
       "603           5.0        4.23      NZ  1.590172e+09  \n",
       "605          16.0       12.53      BR  1.590173e+09  \n",
       "607           0.0        6.26      NA  1.590173e+09  \n",
       "\n",
       "[178 rows x 9 columns]"
      ]
     },
     "execution_count": 31,
     "metadata": {},
     "output_type": "execute_result"
    }
   ],
   "source": [
    "# Create Northern and Southern Hemisphere DataFrames\n",
    "northern= clean_df.loc[clean_df[\"Lat\"]>= 0]\n",
    "southern= clean_df.loc[clean_df[\"Lat\"] < 0]\n",
    "northern\n",
    "southern"
   ]
  },
  {
   "cell_type": "markdown",
   "metadata": {},
   "source": [
    "####  Northern Hemisphere - Max Temp vs. Latitude Linear Regression"
   ]
  },
  {
   "cell_type": "code",
   "execution_count": 45,
   "metadata": {},
   "outputs": [
    {
     "data": {
      "image/png": "[encoded data removed]",
      "text/plain": [
       "<Figure size 432x288 with 1 Axes>"
      ]
     },
     "metadata": {
      "needs_background": "light"
     },
     "output_type": "display_data"
    }
   ],
   "source": [
    "from scipy import stats\n",
    "import scipy.stats as st\n",
    "x= northern[\"Lat\"]\n",
    "y= northern[\"Max Temperature\"]\n",
    "\n",
    "(slope, intercept, pvalue, rvalue, stderr) = stats.linregress(x,y)\n",
    "line = slope * x + intercept\n",
    "cor = st.pearsonr(x,y)\n",
    "\n",
    "plt.scatter(x, y, facecolors= 'blue')\n",
    "plt.plot(x, line, color= \"r\")\n",
    "plt.xlabel('Latitude')\n",
    "plt.ylabel('Max Temperature')\n",
    "plt.title('Regression Model Latitude vs. Max Temperature: Northern Hemisphere')\n",
    "cor\n",
    "plt.savefig('NH_Graph_1')"
   ]
  },
  {
   "cell_type": "markdown",
   "metadata": {},
   "source": [
    "####  Southern Hemisphere - Max Temp vs. Latitude Linear Regression"
   ]
  },
  {
   "cell_type": "code",
   "execution_count": 46,
   "metadata": {},
   "outputs": [
    {
     "data": {
      "image/png": "[encoded data removed]",
      "text/plain": [
       "<Figure size 432x288 with 1 Axes>"
      ]
     },
     "metadata": {
      "needs_background": "light"
     },
     "output_type": "display_data"
    }
   ],
   "source": [
    "x= southern[\"Lat\"]\n",
    "y= southern[\"Max Temperature\"]\n",
    "\n",
    "(slope, intercept, pvalue, rvalue, stderr) = stats.linregress(x,y)\n",
    "line = slope * x + intercept\n",
    "cor = st.pearsonr(x,y)\n",
    "\n",
    "plt.scatter(x, y, facecolors= 'blue')\n",
    "plt.plot(x, line, color= \"r\")\n",
    "plt.xlabel('Latitude')\n",
    "plt.ylabel('Max Temperature')\n",
    "plt.title('Regression Model Latitude vs. Max Temperature: Southern Hemisphere ')\n",
    "cor\n",
    "plt.savefig('SH_Graph_1')"
   ]
  },
  {
   "cell_type": "code",
   "execution_count": null,
   "metadata": {},
   "outputs": [],
   "source": [
    "# We can see here that there is a strong correlaition between max temperature and distance from the equator (shown by latitude). \n",
    "#As we would expect, the closer to the equator, the higher max temperature, thus the clustering of more data points near the regression lines. "
   ]
  },
  {
   "cell_type": "markdown",
   "metadata": {},
   "source": [
    "####  Northern Hemisphere - Humidity (%) vs. Latitude Linear Regression"
   ]
  },
  {
   "cell_type": "code",
   "execution_count": 47,
   "metadata": {},
   "outputs": [
    {
     "data": {
      "image/png": "[encoded data removed]",
      "text/plain": [
       "<Figure size 432x288 with 1 Axes>"
      ]
     },
     "metadata": {
      "needs_background": "light"
     },
     "output_type": "display_data"
    }
   ],
   "source": [
    "x= northern[\"Lat\"]\n",
    "y= northern[\"Humidity\"]\n",
    "\n",
    "(slope, intercept, pvalue, rvalue, stderr) = stats.linregress(x,y)\n",
    "line = slope * x + intercept\n",
    "cor = st.pearsonr(x,y)\n",
    "\n",
    "plt.scatter(x, y, facecolors= 'red')\n",
    "plt.plot(x, line, color= \"b\")\n",
    "plt.xlabel('Latitude')\n",
    "plt.ylabel('Humidity')\n",
    "plt.title('Regression Model Latitude vs.Humidity: Northern Hemisphere')\n",
    "cor\n",
    "plt.savefig('NH_Graph_2')"
   ]
  },
  {
   "cell_type": "markdown",
   "metadata": {},
   "source": [
    "####  Southern Hemisphere - Humidity (%) vs. Latitude Linear Regression"
   ]
  },
  {
   "cell_type": "code",
   "execution_count": 48,
   "metadata": {},
   "outputs": [
    {
     "data": {
      "image/png": "[encoded data removed]",
      "text/plain": [
       "<Figure size 432x288 with 1 Axes>"
      ]
     },
     "metadata": {
      "needs_background": "light"
     },
     "output_type": "display_data"
    }
   ],
   "source": [
    "x= southern[\"Lat\"]\n",
    "y= southern[\"Humidity\"]\n",
    "\n",
    "(slope, intercept, pvalue, rvalue, stderr) = stats.linregress(x,y)\n",
    "line = slope * x + intercept\n",
    "cor = st.pearsonr(x,y)\n",
    "\n",
    "plt.scatter(x, y, facecolors= 'red')\n",
    "plt.plot(x, line, color= \"b\")\n",
    "plt.xlabel('Latitude')\n",
    "plt.ylabel('Humidity')\n",
    "plt.title('Regression Model Latitude vs.Humidity: Southern Hemisphere')\n",
    "cor\n",
    "plt.savefig('SH_Graph_2')"
   ]
  },
  {
   "cell_type": "code",
   "execution_count": null,
   "metadata": {},
   "outputs": [],
   "source": [
    "# These humidity graphs (shown in contrast to the latitude of certain locatins) doesn't make it easy to draw conclusions between northenr and souther hemispheric data.\n",
    "# Again, we can see slight clustering near the equator, as those are normally warmer and in some cases more humid climates. Bu tere are compounding variables\n",
    "# for humidity that perhas make this visualization sub optimal for purposes of gaining meaningful insight into trends. "
   ]
  },
  {
   "cell_type": "markdown",
   "metadata": {},
   "source": [
    "####  Northern Hemisphere - Cloudiness (%) vs. Latitude Linear Regression"
   ]
  },
  {
   "cell_type": "code",
   "execution_count": 49,
   "metadata": {},
   "outputs": [
    {
     "data": {
      "image/png": "[encoded data removed]",
      "text/plain": [
       "<Figure size 432x288 with 1 Axes>"
      ]
     },
     "metadata": {
      "needs_background": "light"
     },
     "output_type": "display_data"
    }
   ],
   "source": [
    "x= northern[\"Lat\"]\n",
    "y= northern[\"Cloudiness %\"]\n",
    "\n",
    "(slope, intercept, pvalue, rvalue, stderr) = stats.linregress(x,y)\n",
    "line = slope * x + intercept\n",
    "cor = st.pearsonr(x,y)\n",
    "\n",
    "plt.scatter(x, y, facecolors= 'green')\n",
    "plt.plot(x, line, color= \"purple\")\n",
    "plt.xlabel('Latitude')\n",
    "plt.ylabel('Cloudiness %')\n",
    "plt.title('Regression Model Latitude vs. Cloudiness: Northern Hemisphere')\n",
    "cor\n",
    "plt.savefig('NH_Graph_3')"
   ]
  },
  {
   "cell_type": "markdown",
   "metadata": {},
   "source": [
    "####  Southern Hemisphere - Cloudiness (%) vs. Latitude Linear Regression"
   ]
  },
  {
   "cell_type": "code",
   "execution_count": 50,
   "metadata": {},
   "outputs": [
    {
     "data": {
      "image/png": "[encoded data removed]",
      "text/plain": [
       "<Figure size 432x288 with 1 Axes>"
      ]
     },
     "metadata": {
      "needs_background": "light"
     },
     "output_type": "display_data"
    }
   ],
   "source": [
    "x= southern[\"Lat\"]\n",
    "y= southern[\"Cloudiness %\"]\n",
    "\n",
    "(slope, intercept, pvalue, rvalue, stderr) = stats.linregress(x,y)\n",
    "line = slope * x + intercept\n",
    "cor = st.pearsonr(x,y)\n",
    "\n",
    "plt.scatter(x, y, facecolors= 'green')\n",
    "plt.plot(x, line, color= \"purple\")\n",
    "plt.xlabel('Latitude')\n",
    "plt.ylabel('Cloudiness %')\n",
    "plt.title('Regression Model Latitude vs. Cloudiness: Southern Hemisphere')\n",
    "cor\n",
    "plt.savefig('SH_Graph_3')"
   ]
  },
  {
   "cell_type": "code",
   "execution_count": null,
   "metadata": {},
   "outputs": [],
   "source": [
    "# We had more of our random samples fall into the northern hemosphere category.\n",
    "# This explains the difference in the density when comparing these two graphs. \n",
    "# Latitude actually is not a pre derterminant of cloudiness, which is wy weak see a weak relationship in the graph and also in the regression/correlation stats. "
   ]
  },
  {
   "cell_type": "markdown",
   "metadata": {},
   "source": [
    "####  Northern Hemisphere - Wind Speed (mph) vs. Latitude Linear Regression"
   ]
  },
  {
   "cell_type": "code",
   "execution_count": 51,
   "metadata": {},
   "outputs": [
    {
     "data": {
      "image/png": "[encoded data removed]",
      "text/plain": [
       "<Figure size 432x288 with 1 Axes>"
      ]
     },
     "metadata": {
      "needs_background": "light"
     },
     "output_type": "display_data"
    }
   ],
   "source": [
    "x= northern[\"Lat\"]\n",
    "y= northern[\"Wind Speed\"]\n",
    "\n",
    "(slope, intercept, pvalue, rvalue, stderr) = stats.linregress(x,y)\n",
    "line = slope * x + intercept\n",
    "cor = st.pearsonr(x,y)\n",
    "\n",
    "plt.scatter(x, y, facecolors= 'purple')\n",
    "plt.plot(x, line, color= \"orange\")\n",
    "plt.xlabel('Latitude')\n",
    "plt.ylabel('Wind Speed')\n",
    "plt.title('Regression Model Latitude vs.Wind Speed: Northern Hemisphere')\n",
    "cor\n",
    "plt.savefig('NH_Graph_4')"
   ]
  },
  {
   "cell_type": "markdown",
   "metadata": {},
   "source": [
    "####  Southern Hemisphere - Wind Speed (mph) vs. Latitude Linear Regression"
   ]
  },
  {
   "cell_type": "code",
   "execution_count": 52,
   "metadata": {},
   "outputs": [
    {
     "data": {
      "image/png": "[encoded data removed]",
      "text/plain": [
       "<Figure size 432x288 with 1 Axes>"
      ]
     },
     "metadata": {
      "needs_background": "light"
     },
     "output_type": "display_data"
    }
   ],
   "source": [
    "x= southern[\"Lat\"]\n",
    "y= southern[\"Wind Speed\"]\n",
    "\n",
    "(slope, intercept, pvalue, rvalue, stderr) = stats.linregress(x,y)\n",
    "line = slope * x + intercept\n",
    "cor = st.pearsonr(x,y)\n",
    "\n",
    "plt.scatter(x, y, facecolors= 'purple')\n",
    "plt.plot(x, line, color= \"orange\")\n",
    "plt.xlabel('Latitude')\n",
    "plt.ylabel('Wind Speed')\n",
    "plt.title('Regression Model Latitude vs. Wind Speed: Southern Hemisphere')\n",
    "cor\n",
    "plt.savefig('SH_Graph_4')"
   ]
  },
  {
   "cell_type": "code",
   "execution_count": null,
   "metadata": {},
   "outputs": [],
   "source": [
    "# There seems to not be as big of a correlation between latitude and wind speed in the Northern Hemisphere, when compared with the Southern.\n",
    "# This is shown in the plot below as there is a very flat regression line and the spread od datapoints seems quite random, not holding a discernable pattern.\n",
    "# It seems in the Southern Hemisphere that the closer you get to the equator, the less variability in wind speed is expected.\n",
    "# You can see clearly that the chance for a wind speed of above 25 is much more likely in latitudes further away from the equator. "
   ]
  }
 ],
 "metadata": {
  "anaconda-cloud": {},
  "kernel_info": {
   "name": "python3"
  },
  "kernelspec": {
   "display_name": "Python 3",
   "language": "python",
   "name": "python3"
  },
  "language_info": {
   "codemirror_mode": {
    "name": "ipython",
    "version": 3
   },
   "file_extension": ".py",
   "mimetype": "text/x-python",
   "name": "python",
   "nbconvert_exporter": "python",
   "pygments_lexer": "ipython3",
   "version": "3.7.6"
  },
  "latex_envs": {
   "LaTeX_envs_menu_present": true,
   "autoclose": false,
   "autocomplete": true,
   "bibliofile": "biblio.bib",
   "cite_by": "apalike",
   "current_citInitial": 1,
   "eqLabelWithNumbers": true,
   "eqNumInitial": 1,
   "hotkeys": {
    "equation": "Ctrl-E",
    "itemize": "Ctrl-I"
   },
   "labels_anchors": false,
   "latex_user_defs": false,
   "report_style_numbering": false,
   "user_envs_cfg": false
  },
  "nteract": {
   "version": "0.12.3"
  }
 },
 "nbformat": 4,
 "nbformat_minor": 2
}
