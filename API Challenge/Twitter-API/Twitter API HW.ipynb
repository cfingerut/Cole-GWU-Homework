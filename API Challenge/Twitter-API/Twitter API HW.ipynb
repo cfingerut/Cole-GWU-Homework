{
 "cells": [
  {
   "cell_type": "code",
   "execution_count": 1,
   "metadata": {},
   "outputs": [
    {
     "name": "stdout",
     "output_type": "stream",
     "text": [
      "Requirement already satisfied: vaderSentiment in c:\\users\\cfing\\anaconda3\\lib\\site-packages (3.3.1)\n"
     ]
    }
   ],
   "source": [
    "!pip install vaderSentiment\n",
    "import tweepy\n",
    "import json\n",
    "import os\n",
    "import pandas as pd\n",
    "import numpy as np\n",
    "import matplotlib.pyplot as plt\n",
    "\n",
    "from vaderSentiment.vaderSentiment import SentimentIntensityAnalyzer\n",
    "analyzer = SentimentIntensityAnalyzer()"
   ]
  },
  {
   "cell_type": "code",
   "execution_count": 2,
   "metadata": {},
   "outputs": [
    {
     "name": "stdout",
     "output_type": "stream",
     "text": [
      "C:\\Users\\cfing\\Cole-GWU-Homework\\API Challenge\\Twitter-API\n"
     ]
    }
   ],
   "source": [
    "orig_working_directory = os.getcwd()\n",
    "print(orig_working_directory)"
   ]
  },
  {
   "cell_type": "code",
   "execution_count": 3,
   "metadata": {},
   "outputs": [
    {
     "data": {
      "text/plain": [
       "'C:\\\\Users\\\\cfing\\\\Cole-GWU-Homework'"
      ]
     },
     "execution_count": 3,
     "metadata": {},
     "output_type": "execute_result"
    }
   ],
   "source": [
    "os.chdir(os.path.join('..','..'))\n",
    "curr_working_directory = os.getcwd()\n",
    "os.getcwd()"
   ]
  },
  {
   "cell_type": "code",
   "execution_count": 4,
   "metadata": {},
   "outputs": [],
   "source": [
    "from config import consumer_key, consumer_secret, access_token, access_token_secret"
   ]
  },
  {
   "cell_type": "code",
   "execution_count": 5,
   "metadata": {},
   "outputs": [
    {
     "name": "stdout",
     "output_type": "stream",
     "text": [
      "<tweepy.api.API object at 0x00000148ED64F788>\n"
     ]
    }
   ],
   "source": [
    "auth = tweepy.OAuthHandler(consumer_key, consumer_secret)\n",
    "auth.set_access_token(access_token, access_token_secret)\n",
    "api= tweepy.API(auth)\n",
    "\n",
    "print(api)"
   ]
  },
  {
   "cell_type": "code",
   "execution_count": 6,
   "metadata": {},
   "outputs": [],
   "source": [
    "user_account= ['BBC', 'CBSNews', 'CNN', 'FoxNews', 'nytimes']\n",
    "\n"
   ]
  },
  {
   "cell_type": "code",
   "execution_count": 7,
   "metadata": {},
   "outputs": [],
   "source": [
    "tweet_list= []\n",
    "name= []\n",
    "tweet_id = []\n",
    "created_at= []\n",
    "favorite_count= []\n",
    "full_text= []\n",
    "entities= []\n",
    "# x is grabbing the news outlet, tweet is grabbing tweets in public tweets**\n",
    "for x in user_account:\n",
    "    public_tweets= tweepy.Cursor(api.user_timeline,x,tweet_mode= 'extended').items(100)\n",
    "    for tweet in public_tweets:\n",
    "        tweet_list.append(tweet)\n",
    "        "
   ]
  },
  {
   "cell_type": "code",
   "execution_count": null,
   "metadata": {},
   "outputs": [],
   "source": []
  },
  {
   "cell_type": "code",
   "execution_count": 8,
   "metadata": {},
   "outputs": [],
   "source": [
    "for tweet in tweet_list:\n",
    "    tweet_id.append(tweet.id)\n",
    "    created_at.append(tweet.created_at)\n",
    "    favorite_count.append(tweet.favorite_count)\n",
    "    full_text.append(tweet.full_text)\n",
    "    entities.append(tweet.entities)\n",
    "    name.append(tweet.author.name)"
   ]
  },
  {
   "cell_type": "code",
   "execution_count": 9,
   "metadata": {},
   "outputs": [],
   "source": [
    "tweets_df= pd.DataFrame({\"Tweet ID\": tweet_id,\n",
    "                        \"Tweet Time\": created_at,\n",
    "                        \"Favorite Count\": favorite_count,\n",
    "                        \"Tweet Text\": full_text,\n",
    "                        \"Name\": name})"
   ]
  },
  {
   "cell_type": "code",
   "execution_count": null,
   "metadata": {},
   "outputs": [],
   "source": []
  },
  {
   "cell_type": "code",
   "execution_count": 10,
   "metadata": {},
   "outputs": [],
   "source": [
    "base_name= tweets_df.loc[0,'Name']\n",
    "counter= 0\n",
    "tweets_df[\"Tweets Ago\"]= ''\n",
    "\n",
    "for index, tweet_row in tweets_df.iterrows():\n",
    "        if tweet_row[\"Name\"] == base_name:\n",
    "            tweets_df.loc[index,\"Tweets Ago\"] = counter \n",
    "            counter += 1\n",
    "          \n",
    "        if tweet_row[\"Name\"] != base_name:\n",
    "            counter= 0 \n",
    "            tweets_df.loc[index,\"Tweets Ago\"] = counter \n",
    "            base_name=tweet_row[\"Name\"]\n",
    "            counter+=1\n",
    "            "
   ]
  },
  {
   "cell_type": "code",
   "execution_count": 11,
   "metadata": {},
   "outputs": [],
   "source": [
    "for index, row in tweets_df.iterrows():\n",
    "    tweet=row['Tweet Text']\n",
    "    results= analyzer.polarity_scores(f'{tweet}')\n",
    "    tweets_df.loc[index,'compound'] = results['compound']\n",
    "    tweets_df.loc[index, 'positive'] = results['pos']\n",
    "    tweets_df.loc[index,'neutral'] = results['neu']\n",
    "    tweets_df.loc[index,'negative'] = results['neg']\n",
    "                                      \n",
    "                                  "
   ]
  },
  {
   "cell_type": "code",
   "execution_count": 12,
   "metadata": {},
   "outputs": [],
   "source": [
    "tweets_df.to_csv('sentiment_dataframe.csv')"
   ]
  },
  {
   "cell_type": "code",
   "execution_count": 13,
   "metadata": {},
   "outputs": [
    {
     "data": {
      "image/png": "[encoded data removed]",
      "text/plain": [
       "<Figure size 432x288 with 1 Axes>"
      ]
     },
     "metadata": {
      "needs_background": "light"
     },
     "output_type": "display_data"
    }
   ],
   "source": [
    "\n",
    "\n",
    "x= tweets_df.iloc[0:100,5]\n",
    "\n",
    "bbc_points= tweets_df[\"Name\"]=='BBC'\n",
    "cbs_points=tweets_df[\"Name\"]=='CBS News'\n",
    "cnn_points=tweets_df[\"Name\"]=='CNN'\n",
    "fox_points=tweets_df[\"Name\"]=='Fox News'\n",
    "nyt_points=tweets_df[\"Name\"]=='The New York Times'\n",
    "\n",
    "\n",
    "\n",
    "bbc= tweets_df.loc[bbc_points]\n",
    "cbs= tweets_df.loc[cbs_points]\n",
    "cnn= tweets_df.loc[cnn_points]\n",
    "fox= tweets_df.loc[fox_points]\n",
    "nyt= tweets_df.loc[nyt_points]\n",
    "\n",
    "bbc= bbc['compound']\n",
    "cbs = cbs['compound']\n",
    "cnn= cnn['compound']\n",
    "fox= fox['compound']\n",
    "nyt= nyt['compound']\n",
    "\n",
    "\n",
    "plt.scatter(x,bbc,color = 'purple')\n",
    "plt.scatter(x,cbs,color = 'green')\n",
    "plt.scatter(x,cnn,color = 'red')\n",
    "plt.scatter(x,fox,color = 'blue')\n",
    "plt.scatter(x,bbc,color = 'black')\n",
    "\n",
    "plt.xticks(rotation=45)\n",
    "plt.xlabel(\"Tweets Ago\")\n",
    "plt.ylabel(\"Polarity Score\")\n",
    "plt.title(\"Polarity Score for last 100 Tweets (by network)\")\n",
    "plt.grid(True)\n",
    " \n",
    "plt.savefig('Tweets')"
   ]
  },
  {
   "cell_type": "code",
   "execution_count": 14,
   "metadata": {},
   "outputs": [
    {
     "data": {
      "text/plain": [
       "Name\n",
       "BBC                   0.310002\n",
       "CBS News              0.039351\n",
       "CNN                   0.027862\n",
       "Fox News              0.005423\n",
       "The New York Times   -0.050024\n",
       "Name: compound, dtype: float64"
      ]
     },
     "execution_count": 14,
     "metadata": {},
     "output_type": "execute_result"
    }
   ],
   "source": [
    "tweet_polarity= tweets_df.groupby([\"Name\"]).mean()[\"compound\"]\n",
    "pd.DataFrame(tweet_polarity)\n",
    "tweet_polarity"
   ]
  },
  {
   "cell_type": "code",
   "execution_count": 15,
   "metadata": {},
   "outputs": [],
   "source": [
    "polarity_mean= (tweet_polarity['BBC'], tweet_polarity['CBS News'],tweet_polarity['CNN'], \n",
    "                tweet_polarity['Fox News'], tweet_polarity['The New York Times'])"
   ]
  },
  {
   "cell_type": "code",
   "execution_count": 16,
   "metadata": {},
   "outputs": [
    {
     "data": {
      "image/png": "[encoded data removed]",
      "text/plain": [
       "<Figure size 432x288 with 1 Axes>"
      ]
     },
     "metadata": {
      "needs_background": "light"
     },
     "output_type": "display_data"
    }
   ],
   "source": [
    "fig, ax = plt.subplots()\n",
    "ind= np.arange(len(tweet_polarity))\n",
    "width = 1\n",
    "rect1= ax.bar(ind[0], tweet_polarity[0], width, color = \"red\")\n",
    "rect2= ax.bar(ind[1], tweet_polarity[1], width, color = \"blue\")\n",
    "rect3= ax.bar(ind[2], tweet_polarity[2], width, color = \"green\")\n",
    "rect4= ax.bar(ind[3], tweet_polarity[3], width, color = \"purple\")\n",
    "rect5= ax.bar(ind[4], tweet_polarity[4], width, color = \"black\")\n",
    "\n",
    "plt.xticks(rotation=90)\n",
    "ax.set_ylabel(\"Tweet Polarity\")\n",
    "ax.set_title(\"Media Sentiment for Major Networks via Twitter\")\n",
    "ax.set_xticks(ind +0.5)\n",
    "ax.set_xticklabels(('BBC','CBS News','CNN','Fox News','The New York Times' ))\n",
    "plt.savefig('Polarity')\n"
   ]
  }
 ],
 "metadata": {
  "kernelspec": {
   "display_name": "Python 3",
   "language": "python",
   "name": "python3"
  },
  "language_info": {
   "codemirror_mode": {
    "name": "ipython",
    "version": 3
   },
   "file_extension": ".py",
   "mimetype": "text/x-python",
   "name": "python",
   "nbconvert_exporter": "python",
   "pygments_lexer": "ipython3",
   "version": "3.7.6"
  }
 },
 "nbformat": 4,
 "nbformat_minor": 4
}
